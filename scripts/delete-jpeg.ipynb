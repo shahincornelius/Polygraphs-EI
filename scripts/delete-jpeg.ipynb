{
 "cells": [
  {
   "cell_type": "markdown",
   "metadata": {},
   "source": [
    "# Deletes `.jpg` files from result directory"
   ]
  },
  {
   "cell_type": "code",
   "execution_count": null,
   "metadata": {},
   "outputs": [],
   "source": [
    "from fsspec.implementations.local import LocalFileSystem\n",
    "\n",
    "\n",
    "RESULTCACHE = \"~/Downloads/polygraphs-cache\"\n",
    "\n",
    "\n",
    "def ls(filesystem, directory, ext=\"jpg\"):\n",
    "    \"\"\"\n",
    "    Lists all files with extension `ext` in `directory`.\n",
    "    \"\"\"\n",
    "    paths = filesystem.glob(f\"{directory}/**/*.{ext}\")\n",
    "    return paths\n",
    "\n",
    "\n",
    "def rm(filesystem, paths):\n",
    "    files = 0\n",
    "    bytes = 0\n",
    "    if isinstance(paths, str):\n",
    "        paths = [paths]\n",
    "    assert isinstance(paths, list)\n",
    "    assert all(isinstance(path, str) for path in paths)\n",
    "    for path in paths:\n",
    "        assert filesystem.exists(path)\n",
    "        bytes += filesystem.stat(path)[\"size\"]\n",
    "        files += 1\n",
    "        filesystem.rm(path)\n",
    "    return files, bytes\n"
   ]
  },
  {
   "cell_type": "code",
   "execution_count": null,
   "metadata": {},
   "outputs": [],
   "source": [
    "filesystem = LocalFileSystem()\n",
    "\n",
    "n, b = rm(filesystem, ls(filesystem, RESULTCACHE))\n",
    "print(f\"{n} files deleted ({b} bytes saved)\")"
   ]
  },
  {
   "cell_type": "code",
   "execution_count": null,
   "metadata": {},
   "outputs": [],
   "source": []
  }
 ],
 "metadata": {
  "interpreter": {
   "hash": "99d2daaa40f0c21b26b27a5491cef7acb4d77d22705671ecaa8729c6260e1a86"
  },
  "kernelspec": {
   "display_name": "Python 3.8.9 ('.venv': venv)",
   "language": "python",
   "name": "python3"
  },
  "language_info": {
   "codemirror_mode": {
    "name": "ipython",
    "version": 3
   },
   "file_extension": ".py",
   "mimetype": "text/x-python",
   "name": "python",
   "nbconvert_exporter": "python",
   "pygments_lexer": "ipython3",
   "version": "3.8.9"
  },
  "orig_nbformat": 4
 },
 "nbformat": 4,
 "nbformat_minor": 2
}
