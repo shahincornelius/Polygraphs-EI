{
 "cells": [
  {
   "cell_type": "markdown",
   "metadata": {},
   "source": [
    "# Polarization"
   ]
  },
  {
   "cell_type": "code",
   "execution_count": null,
   "metadata": {},
   "outputs": [],
   "source": [
    "# Enable auto-reloading\n",
    "%reload_ext autoreload\n",
    "# 2: Reload all\n",
    "%autoreload 2\n",
    "\n",
    "import polygraphs as pg\n",
    "\n",
    "from polygraphs import hyperparameters as hparams\n",
    "from polygraphs import ops\n",
    "\n",
    "\n",
    "# Create a PolyGraph configuration\n",
    "params = hparams.PolyGraphHyperParameters()\n",
    "\n",
    "# Initial beliefs are random uniform between 0 and 1\n",
    "params.init.kind = 'uniform'\n",
    "# Chance that action B is better than action A\n",
    "params.epsilon = 0.01\n",
    "# Kind and size of network (a complete network with 10 agents)\n",
    "params.network.kind = 'random'\n",
    "params.network.size = 16\n",
    "\n",
    "# Enable logging; print progress every 100 steps\n",
    "params.logging.enabled = True\n",
    "params.logging.interval = 100\n",
    "\n",
    "# Run 1,000 steps per simulation; repeat simulation 10 times\n",
    "params.simulation.steps = 0\n",
    "params.simulation.repeats = 1\n",
    "\n",
    "# Set seed\n",
    "params.seed = 0\n",
    "\n",
    "pg.random(params.seed)\n",
    "_ = pg.simulate(params, op=ops.OConnorWeatherallSquareDistanceOp)\n",
    "\n",
    "print('Bye.')"
   ]
  },
  {
   "cell_type": "code",
   "execution_count": null,
   "metadata": {},
   "outputs": [],
   "source": []
  }
 ],
 "metadata": {
  "kernelspec": {
   "display_name": "Python 3.8.13 ('polygraphs')",
   "language": "python",
   "name": "python3"
  },
  "language_info": {
   "codemirror_mode": {
    "name": "ipython",
    "version": 3
   },
   "file_extension": ".py",
   "mimetype": "text/x-python",
   "name": "python",
   "nbconvert_exporter": "python",
   "pygments_lexer": "ipython3",
   "version": "3.8.13"
  },
  "orig_nbformat": 2,
  "vscode": {
   "interpreter": {
    "hash": "85bf0e9c58eee383cf410aa2386a3c5163b13680be7e32b9f97c0a8ccc9ea0ee"
   }
  }
 },
 "nbformat": 4,
 "nbformat_minor": 2
}
