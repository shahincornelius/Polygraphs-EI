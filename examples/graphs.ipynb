{
 "cells": [
  {
   "cell_type": "markdown",
   "metadata": {},
   "source": [
    "# Graph views"
   ]
  },
  {
   "cell_type": "code",
   "execution_count": null,
   "metadata": {},
   "outputs": [],
   "source": [
    "# Enable auto-reloading\n",
    "%reload_ext autoreload\n",
    "# 2: Reload all\n",
    "%autoreload 2\n",
    "\n",
    "import torch\n",
    "from collections import deque\n",
    "\n",
    "from polygraphs import graphs\n",
    "from polygraphs import hyperparameters as hparams\n",
    "from polygraphs import visualisations as viz\n",
    "\n",
    "%matplotlib inline"
   ]
  },
  {
   "cell_type": "markdown",
   "metadata": {},
   "source": [
    "### Complete graph"
   ]
  },
  {
   "cell_type": "code",
   "execution_count": null,
   "metadata": {},
   "outputs": [],
   "source": [
    "params = hparams.NetworkHyperParameters()\n",
    "params.size = 6\n",
    "params.kind = 'complete'\n",
    "\n",
    "# Calling graph constructor directly\n",
    "graph = graphs.complete(params)\n",
    "\n",
    "# Set beliefs\n",
    "graph.ndata['belief'] = torch.Tensor([0.1, 0.5, 0.5, 0.99, 0.7, 0.0])\n",
    "\n",
    "_ = viz.draw(graph, layout='circular')"
   ]
  },
  {
   "cell_type": "markdown",
   "metadata": {},
   "source": [
    "### Cycle graph"
   ]
  },
  {
   "cell_type": "code",
   "execution_count": null,
   "metadata": {},
   "outputs": [],
   "source": [
    "params = hparams.NetworkHyperParameters()\n",
    "params.size = 6\n",
    "params.kind = 'cycle'\n",
    "params.directed = True\n",
    "\n",
    "# Calling graph constructor indirectly\n",
    "graph = graphs.create(params)\n",
    "\n",
    "# Set beliefs\n",
    "graph.ndata['belief'] = torch.Tensor([0.1, 0.5, 0.5, 0.99, 0.7, 0.0])\n",
    "\n",
    "_ = viz.draw(graph, layout='circular')"
   ]
  },
  {
   "cell_type": "markdown",
   "metadata": {},
   "source": [
    "### Star graph"
   ]
  },
  {
   "cell_type": "code",
   "execution_count": null,
   "metadata": {},
   "outputs": [],
   "source": [
    "params = hparams.NetworkHyperParameters()\n",
    "params.size = 7\n",
    "params.kind = 'star'\n",
    "\n",
    "# Calling graph constructor indirectly\n",
    "graph = graphs.create(params)\n",
    "\n",
    "# Set beliefs\n",
    "graph.ndata['beliefs'] = torch.Tensor([0.1, 0.5, 0.5, 0.99, 0.7, 0.0, 0.8])\n",
    "\n",
    "_ = viz.draw(graph, layout='spring')"
   ]
  },
  {
   "cell_type": "markdown",
   "metadata": {},
   "source": [
    "### Wheel graph"
   ]
  },
  {
   "cell_type": "code",
   "execution_count": null,
   "metadata": {},
   "outputs": [],
   "source": [
    "params = hparams.NetworkHyperParameters()\n",
    "params.size = 7\n",
    "params.kind = 'wheel'\n",
    "\n",
    "# Calling graph constructor indirectly\n",
    "graph = graphs.create(params)\n",
    "\n",
    "# Set beliefs\n",
    "graph.ndata['belief'] = torch.Tensor([0.1, 0.5, 0.5, 0.99, 0.7, 0.0, 0.8])\n",
    "\n",
    "_ = viz.draw(graph, layout=None)"
   ]
  },
  {
   "cell_type": "markdown",
   "metadata": {},
   "source": [
    "### Line graph"
   ]
  },
  {
   "cell_type": "code",
   "execution_count": null,
   "metadata": {},
   "outputs": [],
   "source": [
    "params = hparams.NetworkHyperParameters()\n",
    "params.size = 6\n",
    "params.kind = 'line'\n",
    "params.directed = True\n",
    "\n",
    "# Calling graph constructor indirectly\n",
    "graph = graphs.create(params)\n",
    "\n",
    "# Set beliefs\n",
    "graph.ndata['belief'] = torch.Tensor([0.1, 0.5, 0.5, 0.99, 0.7, 0.0])\n",
    "\n",
    "_ = viz.draw(graph, layout='circular')"
   ]
  },
  {
   "cell_type": "markdown",
   "metadata": {},
   "source": [
    "### Grid graph"
   ]
  },
  {
   "cell_type": "code",
   "execution_count": null,
   "metadata": {},
   "outputs": [],
   "source": [
    "params = hparams.NetworkHyperParameters()\n",
    "params.size = 9\n",
    "params.kind = 'grid'\n",
    "\n",
    "# Calling graph constructor indirectly\n",
    "graph = graphs.create(params)\n",
    "\n",
    "# Set beliefs\n",
    "graph.ndata['belief'] = torch.Tensor([0.1, 0.5, 0.5, 0.99, 0.7, 0.0, 0.8, 0.7, 0.2])\n",
    "\n",
    "_ = viz.draw(graph, layout=None)"
   ]
  },
  {
   "cell_type": "markdown",
   "metadata": {},
   "source": [
    "### Karate graph"
   ]
  },
  {
   "cell_type": "code",
   "execution_count": null,
   "metadata": {},
   "outputs": [],
   "source": [
    "params = hparams.NetworkHyperParameters()\n",
    "params.kind = 'karate'\n",
    "\n",
    "# Calling graph constructor indirectly\n",
    "graph = graphs.create(params)\n",
    "\n",
    "# Set beliefs\n",
    "graph.ndata['belief'] = torch.rand(graph.num_nodes())\n",
    "\n",
    "_ = viz.draw(graph, figsize=(10, 10), layout=None)"
   ]
  },
  {
   "cell_type": "markdown",
   "metadata": {},
   "source": [
    "### Random graph"
   ]
  },
  {
   "cell_type": "code",
   "execution_count": null,
   "metadata": {},
   "outputs": [],
   "source": [
    "params = hparams.NetworkHyperParameters()\n",
    "params.kind = 'random'\n",
    "params.size = 4\n",
    "params.random.probability = 0.5\n",
    "\n",
    "# Calling graph constructor indirectly\n",
    "graph = graphs.create(params)\n",
    "\n",
    "# Set beliefs\n",
    "graph.ndata['belief'] = torch.rand(graph.num_nodes())\n",
    "\n",
    "_ = viz.draw(graph, figsize=(10, 8), layout='circular')"
   ]
  },
  {
   "cell_type": "markdown",
   "metadata": {},
   "source": [
    "### Watts-Strogatz small world graph"
   ]
  },
  {
   "cell_type": "code",
   "execution_count": null,
   "metadata": {},
   "outputs": [],
   "source": [
    "params = hparams.NetworkHyperParameters()\n",
    "params.kind = 'wattsstrogatz'\n",
    "params.size = 32\n",
    "params.wattsstrogatz.knn = 4\n",
    "params.wattsstrogatz.probability = 1.0\n",
    "\n",
    "# Calling graph constructor indirectly\n",
    "graph = graphs.create(params)\n",
    "\n",
    "# Set beliefs\n",
    "graph.ndata['belief'] = torch.rand(graph.num_nodes())\n",
    "\n",
    "_ = viz.draw(graph, figsize=(10, 8), layout='circular')"
   ]
  },
  {
   "cell_type": "code",
   "execution_count": null,
   "metadata": {},
   "outputs": [],
   "source": [
    "params = hparams.NetworkHyperParameters()\n",
    "params.kind = 'barabasialbert'\n",
    "params.size = 16\n",
    "params.barabasialbert.attachments = 3\n",
    "\n",
    "# Calling graph constructor indirectly\n",
    "graph = graphs.create(params)\n",
    "\n",
    "# Set beliefs\n",
    "graph.ndata['belief'] = torch.rand(graph.num_nodes())\n",
    "\n",
    "_ = viz.draw(graph, figsize=(10, 8), layout='circular')"
   ]
  },
  {
   "cell_type": "markdown",
   "metadata": {},
   "source": [
    "## Animating a PolyGraph"
   ]
  },
  {
   "cell_type": "code",
   "execution_count": null,
   "metadata": {},
   "outputs": [],
   "source": [
    "params = hparams.NetworkHyperParameters()\n",
    "params.size = 6\n",
    "params.kind = 'complete'\n",
    "\n",
    "# Calling graph constructor indirectly\n",
    "graph = graphs.create(params)\n",
    "\n",
    "# Set beliefs\n",
    "graph.ndata['belief'] = torch.Tensor([0.0, 0.0, 0.0, 0.0, 0.0, 0.0])\n",
    "\n",
    "# Increment beliefs by 0.01 100 times, resulting in a belief of 1.\n",
    "frames = deque()\n",
    "times = 10\n",
    "delta = .1\n",
    "for _ in range(times):\n",
    "    frame = graph.ndata['belief'].clone().numpy()\n",
    "    frames.append(frame)\n",
    "    graph.ndata['belief'] += delta\n",
    "\n",
    "_ = viz.animate(graph, frames, layout='circular')"
   ]
  }
 ],
 "metadata": {
  "interpreter": {
   "hash": "99d2daaa40f0c21b26b27a5491cef7acb4d77d22705671ecaa8729c6260e1a86"
  },
  "kernelspec": {
   "display_name": "Python 3.7.3 64-bit ('.venv': venv)",
   "name": "python3"
  },
  "language_info": {
   "codemirror_mode": {
    "name": "ipython",
    "version": 3
   },
   "file_extension": ".py",
   "mimetype": "text/x-python",
   "name": "python",
   "nbconvert_exporter": "python",
   "pygments_lexer": "ipython3",
   "version": "3.7.3"
  },
  "metadata": {
   "interpreter": {
    "hash": "0a74be578f407511512a3ac8e6d80012f89358da3366b0f35214a2118232016e"
   }
  },
  "orig_nbformat": 2
 },
 "nbformat": 4,
 "nbformat_minor": 2
}
