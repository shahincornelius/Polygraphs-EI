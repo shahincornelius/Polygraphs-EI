{
 "cells": [
  {
   "cell_type": "markdown",
   "metadata": {},
   "source": [
    "# Export Polygraphs to Stata"
   ]
  },
  {
   "cell_type": "markdown",
   "metadata": {},
   "source": [
    "## Sample application"
   ]
  },
  {
   "cell_type": "code",
   "execution_count": null,
   "metadata": {},
   "outputs": [],
   "source": [
    "import os\n",
    "\n",
    "import networkx as nx\n",
    "import dgl\n",
    "\n",
    "import numpy as np\n",
    "\n",
    "import polygraphs as pg\n",
    "from polygraphs import hyperparameters as hparams\n",
    "from polygraphs import ops\n",
    "\n",
    "\n",
    "# Create a PolyGraph configuration\n",
    "params = hparams.PolyGraphHyperParameters()\n",
    "\n",
    "# Initial beliefs are random uniform between 0 and 1\n",
    "params.init.kind = 'uniform'\n",
    "# Chance that action B is better than action A\n",
    "params.epsilon = 0.001\n",
    "\n",
    "params.network.kind = 'complete'\n",
    "params.network.size = 4\n",
    "\n",
    "# Enable logging; print progress every 100 steps\n",
    "params.logging.enabled = True\n",
    "params.logging.interval = 100\n",
    "\n",
    "# Take snapshots\n",
    "params.snapshots.enabled = True\n",
    "params.snapshots.interval = 100\n",
    "\n",
    "params.simulation.steps = 0\n",
    "params.simulation.repeats = 1\n",
    "\n",
    "# Store results in directory\n",
    "params.simulation.results = \"data/test\"\n",
    "\n",
    "# Remove directory, if exists\n",
    "if os.path.isdir(params.simulation.results):\n",
    "    os.rmdir(params.simulation.results)\n",
    "\n",
    "# Set seed\n",
    "params.seed = 123456789\n",
    "\n",
    "pg.random(params.seed)\n",
    "_ = pg.simulate(params, op=ops.BalaGoyalOp)"
   ]
  },
  {
   "cell_type": "markdown",
   "metadata": {},
   "source": [
    "## Export to Pajek"
   ]
  },
  {
   "cell_type": "code",
   "execution_count": null,
   "metadata": {},
   "outputs": [],
   "source": [
    "import h5py\n",
    "\n",
    "import os\n",
    "import math\n",
    "\n",
    "import networkx as nx\n",
    "import dgl\n",
    "\n",
    "import numpy as np\n",
    "\n",
    "import polygraphs as pg\n",
    "from polygraphs import ops\n",
    "\n",
    "\n",
    "def export(directory, id):\n",
    "    \"\"\"\n",
    "    Post-process graph snapshots\n",
    "    \"\"\"\n",
    "    # Resulting hashtable\n",
    "    ht = {}\n",
    "    graphs, _ = dgl.load_graphs(os.path.join(directory, f\"{id}.bin\"))\n",
    "    graph = graphs[0]\n",
    "    # Remove self-loops and convert graph to networkx format\n",
    "    graph = dgl.remove_self_loop(graph)\n",
    "    graphx = dgl.to_networkx(graph)\n",
    "\n",
    "    # Process beliefs; every node has attributes:\n",
    "    # {\n",
    "    #   0: {\n",
    "    #       \"0001\": \"0.5\"\n",
    "    #       \"0002\": \"0.3\"\n",
    "    #       \"0003\": \"...\"\n",
    "    #   }\n",
    "    #   1: {...},\n",
    "    #   2: {...},\n",
    "    # }\n",
    "    nodes = list(graphx.nodes)\n",
    "    attrs = {nid: dict() for nid in nodes}\n",
    "    fp = h5py.File(os.path.join(directory, f\"{id}.hd5\"), \"r\")\n",
    "    # print(fp)\n",
    "    _keys = [int(key) for key in fp.keys()]\n",
    "    _keys = sorted(_keys)\n",
    "    digits = len(str(_keys[-1]))\n",
    "    for key in _keys:\n",
    "        # Get node beliefs at specific step\n",
    "        beliefs =list(fp[str(key)])\n",
    "        assert len(beliefs) == len(nodes), \"Mismatch between number of nodes and beliefs\"\n",
    "        s = f\"{{:0{digits}}}\".format(key)\n",
    "        for nid in nodes:\n",
    "            attrs[nid][s] = f\"{beliefs[nid]:5.3f}\"\n",
    "\n",
    "    print(attrs)\n",
    "    nx.set_node_attributes(graphx, attrs)\n",
    "    nx.write_pajek(graphx, os.path.join(directory, f\"{id}.net\"))\n",
    "\n",
    "\n",
    "export(\"data/test\", 1)"
   ]
  },
  {
   "cell_type": "code",
   "execution_count": null,
   "metadata": {},
   "outputs": [],
   "source": []
  }
 ],
 "metadata": {
  "interpreter": {
   "hash": "99d2daaa40f0c21b26b27a5491cef7acb4d77d22705671ecaa8729c6260e1a86"
  },
  "kernelspec": {
   "display_name": "Python 3.7.3 64-bit ('.venv': venv)",
   "language": "python",
   "name": "python3"
  },
  "language_info": {
   "codemirror_mode": {
    "name": "ipython",
    "version": 3
   },
   "file_extension": ".py",
   "mimetype": "text/x-python",
   "name": "python",
   "nbconvert_exporter": "python",
   "pygments_lexer": "ipython3",
   "version": "3.7.3"
  },
  "orig_nbformat": 4
 },
 "nbformat": 4,
 "nbformat_minor": 2
}
