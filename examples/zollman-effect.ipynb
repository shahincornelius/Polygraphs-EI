{
 "cells": [
  {
   "cell_type": "markdown",
   "metadata": {},
   "source": [
    "# Zollman Effect"
   ]
  },
  {
   "cell_type": "markdown",
   "metadata": {},
   "source": [
    "## Running a single simulation"
   ]
  },
  {
   "cell_type": "code",
   "execution_count": null,
   "metadata": {
    "tags": []
   },
   "outputs": [],
   "source": [
    "# Enable auto-reloading\n",
    "%reload_ext autoreload\n",
    "# 2: Reload all\n",
    "%autoreload 2\n",
    "\n",
    "import polygraphs as pg\n",
    "\n",
    "from polygraphs import hyperparameters as hparams\n",
    "from polygraphs import ops\n",
    "\n",
    "\n",
    "# Create a PolyGraph configuration\n",
    "params = hparams.PolyGraphHyperParameters()\n",
    "\n",
    "# Initial beliefs are random uniform between 0 and 1\n",
    "params.init.kind = 'uniform'\n",
    "# Chance that action B is better than action A\n",
    "params.epsilon = 0.01\n",
    "# Kind and size of network (a complete network with 10 agents)\n",
    "params.network.kind = 'complete'\n",
    "params.network.size = 16\n",
    "\n",
    "# Enable logging; print progress every 100 steps\n",
    "params.logging.enabled = True\n",
    "params.logging.interval = 100\n",
    "\n",
    "# Run 1,000 steps per simulation; repeat simulation 10 times\n",
    "params.simulation.steps = 1000\n",
    "params.simulation.repeats = 10\n",
    "\n",
    "# Set seed\n",
    "params.seed = 123456789\n",
    "\n",
    "pg.random(params.seed)\n",
    "_ = pg.simulate(params, op=ops.BalaGoyalOp)\n",
    "\n",
    "print('Bye.')"
   ]
  },
  {
   "cell_type": "markdown",
   "metadata": {},
   "source": [
    "## Running experiments\n",
    "\n",
    "### 1 The basic idea\n",
    "\n",
    "#### 1.1 The code"
   ]
  },
  {
   "cell_type": "code",
   "execution_count": null,
   "metadata": {
    "tags": []
   },
   "outputs": [],
   "source": [
    "# Enable auto-reloading\n",
    "%reload_ext autoreload\n",
    "# 2: Reload all\n",
    "%autoreload 2\n",
    "\n",
    "\n",
    "from collections import deque, namedtuple\n",
    "\n",
    "import polygraphs as pg\n",
    "\n",
    "from polygraphs import hyperparameters as hparams\n",
    "from polygraphs import metadata\n",
    "from polygraphs import ops\n",
    "\n",
    "\n",
    "# Create base PolyGraph configuration. All simulations inherit from this configuration.\n",
    "# In this particular case, we will vary the network size.\n",
    "params = hparams.PolyGraphHyperParameters()\n",
    "\n",
    "# Initial beliefs are random uniform between 0 and 1\n",
    "params.init.kind = 'uniform'\n",
    "# Chance that action B is better than action A\n",
    "params.epsilon = 0.01\n",
    "# Kind and size of network (a complete network with N agents)\n",
    "params.network.kind = 'cycle'\n",
    "params.network.size = None\n",
    "# Disable logging\n",
    "params.logging.enabled = False\n",
    "# Repeat simulation 10 times; run to convergence\n",
    "params.simulation.steps = 0\n",
    "params.simulation.repeats = 10\n",
    "\n",
    "# Generate a list of configurations, varying the network size\n",
    "options = {'network.size': [2, 4, 8]}\n",
    "configurations = hparams.PolyGraphHyperParameters.expand(params, options)\n",
    "\n",
    "results = deque()\n",
    "for config in configurations:\n",
    "    # Run experiment\n",
    "    pg.log.info('Simulating a {} network of size {}'.format(config.network.kind, config.network.size))\n",
    "    # Besides config and op, the rest of the keyword arguments (e.g. size=N)\n",
    "    # are treated as metadata. Metadata helps distinguish simulation results\n",
    "    # in a collection (e.g. `results`) and, subsequently, post-processing.\n",
    "    result = pg.simulate(config, op=ops.BalaGoyalOp, size=config.network.size)\n",
    "    results.append(result)\n",
    "# Merge simulation results in a single data frame for post-processing.\n",
    "# If stream is set, write the resulting data frame to a file\n",
    "_ = metadata.merge(*results, stream='results.csv')\n",
    "print('Bye.')"
   ]
  },
  {
   "cell_type": "markdown",
   "metadata": {},
   "source": [
    "#### 1.2 Post-processing results"
   ]
  },
  {
   "cell_type": "code",
   "execution_count": null,
   "metadata": {},
   "outputs": [],
   "source": [
    "import pandas as pd\n",
    "\n",
    "\n",
    "df = pd.read_csv('results.csv')\n",
    "df.head()"
   ]
  },
  {
   "cell_type": "markdown",
   "metadata": {},
   "source": [
    "### 2 The effect of $\\epsilon$\n",
    "\n"
   ]
  },
  {
   "cell_type": "code",
   "execution_count": null,
   "metadata": {},
   "outputs": [],
   "source": [
    "# Enable auto-reloading\n",
    "%reload_ext autoreload\n",
    "# 2: Reload all\n",
    "%autoreload 2\n",
    "\n",
    "\n",
    "from collections import deque, namedtuple\n",
    "\n",
    "import polygraphs as pg\n",
    "\n",
    "from polygraphs import hyperparameters as hparams\n",
    "from polygraphs import metadata\n",
    "from polygraphs import ops\n",
    "\n",
    "\n",
    "# Create base PolyGraph configuration. All simulations inherit from this configuration.\n",
    "# In this particular case, we will vary the network size.\n",
    "params = hparams.PolyGraphHyperParameters()\n",
    "# Initial beliefs are random uniform between 0 and 1\n",
    "params.init.kind = 'uniform'\n",
    "# Chance that action B is better than action A\n",
    "params.epsilon = 0.0\n",
    "# Kind and size of network (a cycle network with 10 agents)\n",
    "params.network.kind = 'cycle'\n",
    "params.network.size = 10\n",
    "# Disable logging\n",
    "params.logging.enabled = False\n",
    "# Repeat simulation 10 times; run to convergence\n",
    "params.simulation.steps = 0\n",
    "params.simulation.repeats = 100\n",
    "\n",
    "# Generate a list of configurations, varying the network size\n",
    "options = {'epsilon': [0.001, 0.025, 0.05, 0.075, 0.1]}\n",
    "configurations = hparams.PolyGraphHyperParameters.expand(params, options)\n",
    "\n",
    "results = deque()\n",
    "for config in configurations:\n",
    "    # Run experiment\n",
    "    pg.log.info('Simulating a {}-node {} network of with epsilon {:5.3f}'.format(config.network.size,\n",
    "                                                                                 config.network.kind,\n",
    "                                                                                 config.epsilon))\n",
    "    result = pg.simulate(config, op=ops.BalaGoyalOp, epsilon=config.epsilon)\n",
    "    results.append(result)\n",
    "# Merge simulation results in a single data frame for post-processing.\n",
    "# If stream is set, write the resulting data frame to a file\n",
    "_ = metadata.merge(*results, stream='epsilon.csv')\n",
    "print('Bye.')"
   ]
  },
  {
   "cell_type": "markdown",
   "metadata": {},
   "source": [
    "### 3 The effect of the number of trials"
   ]
  },
  {
   "cell_type": "code",
   "execution_count": null,
   "metadata": {},
   "outputs": [],
   "source": [
    "# Enable auto-reloading\n",
    "%reload_ext autoreload\n",
    "# 2: Reload all\n",
    "%autoreload 2\n",
    "\n",
    "\n",
    "from collections import deque, namedtuple\n",
    "\n",
    "import polygraphs as pg\n",
    "\n",
    "from polygraphs import hyperparameters as hparams\n",
    "from polygraphs import metadata\n",
    "from polygraphs import ops\n",
    "\n",
    "\n",
    "# Create base PolyGraph configuration. All simulations inherit from this configuration.\n",
    "# In this particular case, we will vary the network size.\n",
    "params = hparams.PolyGraphHyperParameters()\n",
    "# Initial beliefs are random uniform between 0 and 1\n",
    "params.init.kind = 'uniform'\n",
    "# Chance that action B is better than action A\n",
    "params.epsilon = 0.01\n",
    "# Kind and size of network (a cycle network with 10 agents)\n",
    "params.network.kind = 'cycle'\n",
    "params.network.size = 10\n",
    "# Disable logging\n",
    "params.logging.enabled = False\n",
    "# Repeat simulation 10 times; run to convergence\n",
    "params.simulation.steps = 0\n",
    "params.simulation.repeats = 100\n",
    "\n",
    "# Generate a list of configurations, varying the network size\n",
    "options = {'trials': [10, 100, 1000, 10000]}\n",
    "configurations = hparams.PolyGraphHyperParameters.expand(params, options)\n",
    "\n",
    "results = deque()\n",
    "for config in configurations:\n",
    "    # Run experiment\n",
    "    pg.log.info('Simulating a {}-node {} network of with {:5d} trials'.format(config.network.size,\n",
    "                                                                              config.network.kind,\n",
    "                                                                              config.trials))\n",
    "    result = pg.simulate(config, op=ops.BalaGoyalOp, trials=config.trials)\n",
    "    results.append(result)\n",
    "# Merge simulation results in a single data frame for post-processing.\n",
    "# If stream is set, write the resulting data frame to a file\n",
    "_ = metadata.merge(*results, stream='trials.csv')\n",
    "print('Bye.')"
   ]
  }
 ],
 "metadata": {
  "kernelspec": {
   "display_name": "Python 3.7.3 64-bit ('.venv': venv)",
   "name": "python373jvsc74a57bd00a74be578f407511512a3ac8e6d80012f89358da3366b0f35214a2118232016e"
  },
  "language_info": {
   "codemirror_mode": {
    "name": "ipython",
    "version": 3
   },
   "file_extension": ".py",
   "mimetype": "text/x-python",
   "name": "python",
   "nbconvert_exporter": "python",
   "pygments_lexer": "ipython3",
   "version": "3.7.3"
  },
  "orig_nbformat": 2
 },
 "nbformat": 4,
 "nbformat_minor": 2
}
