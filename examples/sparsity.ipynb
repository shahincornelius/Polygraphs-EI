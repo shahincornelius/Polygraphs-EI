{
 "cells": [
  {
   "cell_type": "markdown",
   "metadata": {},
   "source": [
    "# Sparsity analysis"
   ]
  },
  {
   "cell_type": "code",
   "execution_count": null,
   "metadata": {},
   "outputs": [],
   "source": [
    "import torch\n",
    "from collections import deque\n",
    "import os\n",
    "\n",
    "import networkx as nx\n",
    "import dgl\n",
    "\n",
    "import matplotlib.pyplot as plt\n",
    "import numpy as np\n",
    "\n",
    "import polygraphs as pg\n",
    "from polygraphs import graphs\n",
    "from polygraphs import hyperparameters as hparams\n",
    "from polygraphs import visualisations as viz\n",
    "from polygraphs import ops\n",
    "\n",
    "%matplotlib inline"
   ]
  },
  {
   "cell_type": "markdown",
   "metadata": {},
   "source": [
    "## Static analysis\n",
    "\n",
    "### A. Measures"
   ]
  },
  {
   "cell_type": "code",
   "execution_count": null,
   "metadata": {},
   "outputs": [],
   "source": [
    "params = hparams.NetworkHyperParameters()\n",
    "params.kind = 'wattsstrogatz'\n",
    "params.size = 32\n",
    "params.wattsstrogatz.knn = 4\n",
    "params.wattsstrogatz.probability = 0.5\n",
    "params.selfloop = False\n",
    "\n",
    "# Calling graph constructor indirectly\n",
    "graph = graphs.create(params)\n",
    "_ = viz.draw(graph, figsize=(10, 8), layout='circular')"
   ]
  },
  {
   "cell_type": "markdown",
   "metadata": {},
   "source": [
    "#### Sparsity"
   ]
  },
  {
   "cell_type": "code",
   "execution_count": null,
   "metadata": {},
   "outputs": [],
   "source": [
    "def sparsity(graph):\n",
    "    \"\"\"\n",
    "    Returns sparsity level of given DGL graph.\n",
    "    \"\"\"\n",
    "    # Assumes an adjacency matrix of size N x N with M non-zero values\n",
    "    return graph.num_edges() / (graph.num_nodes() ** 2)\n",
    "\n",
    "\n",
    "sparsity(graph)"
   ]
  },
  {
   "cell_type": "markdown",
   "metadata": {},
   "source": [
    "#### Clustering coefficient"
   ]
  },
  {
   "cell_type": "code",
   "execution_count": null,
   "metadata": {},
   "outputs": [],
   "source": [
    "def acc(graph):\n",
    "    \"\"\"\n",
    "    Returns average clustering coefficient.\n",
    "    \"\"\"\n",
    "    graphx = nx.DiGraph(dgl.to_networkx(graph))\n",
    "    return nx.algorithms.cluster.average_clustering(graphx)\n",
    "\n",
    "\n",
    "acc(graph)"
   ]
  },
  {
   "cell_type": "markdown",
   "metadata": {},
   "source": [
    "#### Average path length"
   ]
  },
  {
   "cell_type": "code",
   "execution_count": null,
   "metadata": {},
   "outputs": [],
   "source": [
    "def apl(graph):\n",
    "    \"\"\"\n",
    "    Returns average shortest path length.\n",
    "    \"\"\"\n",
    "    graphx = nx.DiGraph(dgl.to_networkx(graph))\n",
    "    return nx.average_shortest_path_length(graphx)\n",
    "\n",
    "\n",
    "apl(graph)"
   ]
  },
  {
   "cell_type": "markdown",
   "metadata": {},
   "source": [
    "## Dynamic analysis"
   ]
  },
  {
   "cell_type": "code",
   "execution_count": null,
   "metadata": {},
   "outputs": [],
   "source": [
    "# Create a PolyGraph configuration\n",
    "params = hparams.PolyGraphHyperParameters()\n",
    "\n",
    "# Initial beliefs are random uniform between 0 and 1\n",
    "params.init.kind = 'uniform'\n",
    "# Chance that action B is better than action A\n",
    "params.epsilon = 0.001\n",
    "\n",
    "params.network.kind = 'complete'\n",
    "params.network.size = 1024\n",
    "\n",
    "# Enable logging; print progress every 100 steps\n",
    "params.logging.enabled = True\n",
    "params.logging.interval = 100\n",
    "\n",
    "# Take snapshots\n",
    "params.snapshots.enabled = True\n",
    "params.snapshots.interval = 100\n",
    "\n",
    "params.simulation.steps = 0\n",
    "params.simulation.repeats = 1\n",
    "\n",
    "# Store results in directory\n",
    "params.simulation.results = \"data/1024-complete\"\n",
    "\n",
    "# Set seed\n",
    "params.seed = 123456789\n",
    "\n",
    "pg.random(params.seed)\n",
    "_ = pg.simulate(params, op=ops.BalaGoyalOp)"
   ]
  },
  {
   "cell_type": "code",
   "execution_count": null,
   "metadata": {},
   "outputs": [],
   "source": [
    "import h5py\n",
    "\n",
    "\n",
    "def sparsity(graph):\n",
    "    \"\"\"\n",
    "    Returns sparsity level of given DGL graph.\n",
    "    \"\"\"\n",
    "    # Remove self-loops\n",
    "    g = dgl.remove_self_loop(graph)\n",
    "    # Assumes an adjacency matrix of size N x N with M non-zero values\n",
    "    return g.num_edges() / (g.num_nodes() ** 2)\n",
    "\n",
    "\n",
    "def acc(graph):\n",
    "    \"\"\"\n",
    "    Returns average clustering coefficient.\n",
    "    \"\"\"\n",
    "    graphx = nx.DiGraph(dgl.to_networkx(graph))\n",
    "    return nx.algorithms.cluster.average_clustering(graphx)\n",
    "\n",
    "\n",
    "def apl(graph):\n",
    "    \"\"\"\n",
    "    Returns average shortest path length.\n",
    "    \"\"\"\n",
    "    graphx = nx.DiGraph(dgl.to_networkx(graph))\n",
    "    return nx.average_shortest_path_length(graphx)\n",
    "\n",
    "\n",
    "def filterfn(edges):\n",
    "    return torch.le(edges.src[\"beliefs\"], 0.5)\n",
    "   \n",
    "\n",
    "def postprocess(directory, id):\n",
    "    \"\"\"\n",
    "    Post-process graph snapshots\n",
    "    \"\"\"\n",
    "    # Resulting hashtable\n",
    "    ht = {}\n",
    "    graphs, _ = dgl.load_graphs(os.path.join(directory, f\"{id}.bin\"))\n",
    "    graph = graphs[0]\n",
    "    fp = h5py.File(os.path.join(directory, f\"{id}.hd5\"), \"r\")\n",
    "    _keys = [int(key) for key in fp.keys()]\n",
    "    _keys = sorted(_keys)\n",
    "    for key in _keys:\n",
    "        graph.ndata[\"beliefs\"] = torch.tensor(fp[str(key)][:])\n",
    "        # Filter any edge whose source has belief less than 0.5\n",
    "        inactive = graph.filter_edges(filterfn)\n",
    "        # Create subgraph\n",
    "        subgraph = dgl.remove_edges(graph, inactive)\n",
    "        # Debugging\n",
    "        s = 'DBG> '\n",
    "        s += f'From G({graph.num_nodes():4d}, {graph.num_edges():5d})'\n",
    "        s += f'to G\\'({subgraph.num_nodes():4d}, {subgraph.num_edges():5d})'\n",
    "        print(s)\n",
    "        # Compute network statistics\n",
    "        ht[key] = sparsity(subgraph)\n",
    "    return ht\n",
    "\n",
    "\n",
    "ht = postprocess(\"data/128-complete\", 1)"
   ]
  },
  {
   "cell_type": "code",
   "execution_count": null,
   "metadata": {},
   "outputs": [],
   "source": [
    "plt.rc('font', **{'family':'sans-serif','sans-serif':['Arial'], 'size': 16})\n",
    "\n",
    "# Configure the y-axis - find max value and use discrete steps\n",
    "plt.ylim([0, 1])\n",
    "plt.yticks(np.arange(0, 1.1, 0.1))\n",
    "plt.ylabel('Sparsity')\n",
    "# Configure the x-axis\n",
    "plt.xlim([0, max(ht.keys())])\n",
    "plt.xlabel('Iterations')\n",
    "# Create a bar chart\n",
    "plt.plot(ht.keys(), \n",
    "         ht.values(),\n",
    "         '--o',\n",
    "         color='#B7BF35')"
   ]
  },
  {
   "cell_type": "code",
   "execution_count": null,
   "metadata": {},
   "outputs": [],
   "source": []
  }
 ],
 "metadata": {
  "kernelspec": {
   "display_name": "Python 3.10.4 ('polygraphs')",
   "language": "python",
   "name": "python3"
  },
  "language_info": {
   "codemirror_mode": {
    "name": "ipython",
    "version": 3
   },
   "file_extension": ".py",
   "mimetype": "text/x-python",
   "name": "python",
   "nbconvert_exporter": "python",
   "pygments_lexer": "ipython3",
   "version": "3.10.4"
  },
  "orig_nbformat": 4,
  "vscode": {
   "interpreter": {
    "hash": "85bf0e9c58eee383cf410aa2386a3c5163b13680be7e32b9f97c0a8ccc9ea0ee"
   }
  }
 },
 "nbformat": 4,
 "nbformat_minor": 2
}
