{
 "cells": [
  {
   "cell_type": "markdown",
   "metadata": {},
   "source": [
    "# Erdos-Renyi random graphs\n",
    "\n",
    "We generate graphs $G(n,p)$, where $n$ is the number of nodes and $p$ the probability of an edge between any two nodes.\n",
    "\n",
    "If $p > \\frac{(1 + \\epsilon)\\ln n}{n}$, then the graph will almost surely be connected."
   ]
  },
  {
   "cell_type": "code",
   "execution_count": null,
   "metadata": {},
   "outputs": [],
   "source": [
    "# Enable auto-reloading\n",
    "%reload_ext autoreload\n",
    "# 2: Reload all\n",
    "%autoreload 2\n",
    "\n",
    "import numpy as np\n",
    "import networkx as nx\n",
    "import dgl\n",
    "import math\n",
    "\n",
    "from polygraphs import graphs\n",
    "from polygraphs import hyperparameters as hparams\n",
    "\n",
    "\n",
    "params = hparams.NetworkHyperParameters()\n",
    "params.kind = 'random'\n",
    "params.size = 16\n",
    "params.directed = False\n",
    "\n",
    "# Calling graph constructor indirectly\n",
    "graph = graphs.create(params)\n",
    "\n",
    "P = np.linspace(0.2, 1.0, num=10)\n",
    "\n",
    "for p in P:\n",
    "    params.random.probability = p\n",
    "    graph = graphs.create(params)\n",
    "    # Remove self loops and compute density\n",
    "    density = nx.density(dgl.to_networkx(dgl.remove_self_loop(graph)))\n",
    "    print(f\"Creating random graph G({params.size}, {p:3.1f}) with density {density:3.1f}\")\n",
    "print(\"Bye.\")"
   ]
  },
  {
   "cell_type": "markdown",
   "metadata": {},
   "source": [
    "## Watts-Strogatz random graphs"
   ]
  },
  {
   "cell_type": "code",
   "execution_count": null,
   "metadata": {},
   "outputs": [],
   "source": [
    "# Enable auto-reloading\n",
    "%reload_ext autoreload\n",
    "# 2: Reload all\n",
    "%autoreload 2\n",
    "\n",
    "import numpy as np\n",
    "import networkx as nx\n",
    "import dgl\n",
    "import math\n",
    "\n",
    "from polygraphs import graphs\n",
    "from polygraphs import hyperparameters as hparams\n",
    "from polygraphs import visualisations as viz\n",
    "\n",
    "\n",
    "params = hparams.NetworkHyperParameters()\n",
    "params.kind = 'wattsstrogatz'\n",
    "params.size = 128\n",
    "params.directed = False\n",
    "\n",
    "# Calling graph constructor indirectly\n",
    "graph = graphs.create(params)\n",
    "\n",
    "P = np.linspace(0.0, 1.0, num=2)\n",
    "\n",
    "for p in P:\n",
    "    params.wattsstrogatz.knn = 2\n",
    "    params.wattsstrogatz.probability = p\n",
    "    graph = graphs.create(params)\n",
    "    viz.draw(graph, layout=\"circular\", figsize=(19, 16))\n",
    "    # Remove self loops and compute density\n",
    "    density = nx.density(dgl.to_networkx(dgl.remove_self_loop(graph)))\n",
    "    print(f\"Creating Watts-Strogatz graph G({params.size}, {p:3.1f}) with density {density:3.3f}\")\n",
    "print(\"Bye.\")"
   ]
  }
 ],
 "metadata": {
  "interpreter": {
   "hash": "99d2daaa40f0c21b26b27a5491cef7acb4d77d22705671ecaa8729c6260e1a86"
  },
  "kernelspec": {
   "display_name": "Python 3.7.3 64-bit ('.venv': venv)",
   "language": "python",
   "name": "python3"
  },
  "language_info": {
   "codemirror_mode": {
    "name": "ipython",
    "version": 3
   },
   "file_extension": ".py",
   "mimetype": "text/x-python",
   "name": "python",
   "nbconvert_exporter": "python",
   "pygments_lexer": "ipython3",
   "version": "3.7.3"
  },
  "orig_nbformat": 4
 },
 "nbformat": 4,
 "nbformat_minor": 2
}
