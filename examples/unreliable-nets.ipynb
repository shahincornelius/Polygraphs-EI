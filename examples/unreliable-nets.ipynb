{
 "cells": [
  {
   "cell_type": "markdown",
   "metadata": {},
   "source": [
    "# Unreliable Networks"
   ]
  },
  {
   "cell_type": "markdown",
   "metadata": {},
   "source": [
    "#### Try `UnreliableNetworkBasicGullibleOp`"
   ]
  },
  {
   "cell_type": "code",
   "execution_count": null,
   "metadata": {
    "tags": []
   },
   "outputs": [],
   "source": [
    "# Enable auto-reloading\n",
    "%reload_ext autoreload\n",
    "# 2: Reload all\n",
    "%autoreload 2\n",
    "\n",
    "import polygraphs as pg\n",
    "\n",
    "from polygraphs import hyperparameters as hparams\n",
    "from polygraphs import ops\n",
    "\n",
    "\n",
    "# Create a PolyGraph configuration\n",
    "params = hparams.PolyGraphHyperParameters()\n",
    "\n",
    "# Initial beliefs are random uniform between 0 and 1\n",
    "params.init.kind = 'uniform'\n",
    "# Chance that action B is better than action A\n",
    "params.epsilon = 0.001\n",
    "# Kind and size of network (a complete network with 10 agents)\n",
    "params.network.kind = 'complete'\n",
    "params.network.size = 16\n",
    "\n",
    "# Enable logging; print progress every 100 steps\n",
    "params.logging.enabled = True\n",
    "params.logging.interval = 100\n",
    "\n",
    "# Run 1,000 steps per simulation; repeat simulation 10 times\n",
    "params.simulation.steps = 0\n",
    "params.simulation.repeats = 1\n",
    "\n",
    "# Set overall reliability of the network\n",
    "params.reliability = 0.3\n",
    "\n",
    "# Set seed\n",
    "params.seed = 0\n",
    "\n",
    "pg.random(params.seed)\n",
    "_ = pg.simulate(params, op=ops.UnreliableNetworkBasicGullibleOp)\n",
    "\n",
    "print('Bye.')"
   ]
  },
  {
   "cell_type": "markdown",
   "metadata": {},
   "source": [
    "#### Try `UnreliableNetworkBasicAllignedOp`"
   ]
  },
  {
   "cell_type": "code",
   "execution_count": null,
   "metadata": {},
   "outputs": [],
   "source": [
    "# Enable auto-reloading\n",
    "%reload_ext autoreload\n",
    "# 2: Reload all\n",
    "%autoreload 2\n",
    "\n",
    "import polygraphs as pg\n",
    "\n",
    "from polygraphs import hyperparameters as hparams\n",
    "from polygraphs import ops\n",
    "\n",
    "\n",
    "# Create a PolyGraph configuration\n",
    "params = hparams.PolyGraphHyperParameters()\n",
    "\n",
    "# Initial beliefs are random uniform between 0 and 1\n",
    "params.init.kind = 'uniform'\n",
    "# Chance that action B is better than action A\n",
    "params.epsilon = 0.01\n",
    "# Kind and size of network (a complete network with 10 agents)\n",
    "params.network.kind = 'complete'\n",
    "params.network.size = 16\n",
    "\n",
    "# Enable logging; print progress every 100 steps\n",
    "params.logging.enabled = True\n",
    "params.logging.interval = 100\n",
    "\n",
    "# Run 1,000 steps per simulation; repeat simulation 10 times\n",
    "params.simulation.steps = 0\n",
    "params.simulation.repeats = 1\n",
    "\n",
    "# Set overall reliability of the network\n",
    "params.reliability = 0.5\n",
    "\n",
    "# Set seed\n",
    "params.seed = 0\n",
    "\n",
    "pg.random(params.seed)\n",
    "_ = pg.simulate(params, op=ops.UnreliableNetworkBasicAlignedOp)\n",
    "\n",
    "print('Bye.')"
   ]
  },
  {
   "cell_type": "markdown",
   "metadata": {},
   "source": [
    "#### Try `UnreliableNetworkBasicUnallignedOp`"
   ]
  },
  {
   "cell_type": "code",
   "execution_count": 1,
   "metadata": {},
   "outputs": [
    {
     "name": "stderr",
     "output_type": "stream",
     "text": [
      "Using backend: pytorch\n"
     ]
    },
    {
     "name": "stdout",
     "output_type": "stream",
     "text": [
      " INFO polygraphs> 8 out of 16 nodes are reliable\n"
     ]
    },
    {
     "ename": "KeyError",
     "evalue": "'reliability'",
     "output_type": "error",
     "traceback": [
      "\u001b[0;31m---------------------------------------------------------------------------\u001b[0m",
      "\u001b[0;31mKeyError\u001b[0m                                  Traceback (most recent call last)",
      "Cell \u001b[0;32mIn [1], line 38\u001b[0m\n\u001b[1;32m     35\u001b[0m params\u001b[39m.\u001b[39mseed \u001b[39m=\u001b[39m \u001b[39m0\u001b[39m\n\u001b[1;32m     37\u001b[0m pg\u001b[39m.\u001b[39mrandom(params\u001b[39m.\u001b[39mseed)\n\u001b[0;32m---> 38\u001b[0m _ \u001b[39m=\u001b[39m pg\u001b[39m.\u001b[39;49msimulate(params, op\u001b[39m=\u001b[39;49mops\u001b[39m.\u001b[39;49mUnreliableNetworkBasicUnalignedOp)\n\u001b[1;32m     40\u001b[0m \u001b[39mprint\u001b[39m(\u001b[39m'\u001b[39m\u001b[39mBye.\u001b[39m\u001b[39m'\u001b[39m)\n",
      "File \u001b[0;32m/opt/anaconda3/envs/polygraphs/lib/python3.8/site-packages/torch/autograd/grad_mode.py:27\u001b[0m, in \u001b[0;36m_DecoratorContextManager.__call__.<locals>.decorate_context\u001b[0;34m(*args, **kwargs)\u001b[0m\n\u001b[1;32m     24\u001b[0m \u001b[39m@functools\u001b[39m\u001b[39m.\u001b[39mwraps(func)\n\u001b[1;32m     25\u001b[0m \u001b[39mdef\u001b[39;00m \u001b[39mdecorate_context\u001b[39m(\u001b[39m*\u001b[39margs, \u001b[39m*\u001b[39m\u001b[39m*\u001b[39mkwargs):\n\u001b[1;32m     26\u001b[0m     \u001b[39mwith\u001b[39;00m \u001b[39mself\u001b[39m\u001b[39m.\u001b[39mclone():\n\u001b[0;32m---> 27\u001b[0m         \u001b[39mreturn\u001b[39;00m func(\u001b[39m*\u001b[39;49margs, \u001b[39m*\u001b[39;49m\u001b[39m*\u001b[39;49mkwargs)\n",
      "File \u001b[0;32m/opt/anaconda3/envs/polygraphs/lib/python3.8/site-packages/polygraphs-1-py3.8.egg/polygraphs/__init__.py:236\u001b[0m, in \u001b[0;36msimulate\u001b[0;34m(params, op, **meta)\u001b[0m\n\u001b[1;32m    227\u001b[0m     hooks \u001b[39m+\u001b[39m\u001b[39m=\u001b[39m [\n\u001b[1;32m    228\u001b[0m         monitors\u001b[39m.\u001b[39mSnapshotHook(\n\u001b[1;32m    229\u001b[0m             interval\u001b[39m=\u001b[39mparams\u001b[39m.\u001b[39msnapshots\u001b[39m.\u001b[39minterval,\n\u001b[0;32m   (...)\u001b[0m\n\u001b[1;32m    233\u001b[0m         )\n\u001b[1;32m    234\u001b[0m     ]\n\u001b[1;32m    235\u001b[0m \u001b[39m# Run simulation\u001b[39;00m\n\u001b[0;32m--> 236\u001b[0m result \u001b[39m=\u001b[39m simulate_(\n\u001b[1;32m    237\u001b[0m     graph,\n\u001b[1;32m    238\u001b[0m     model,\n\u001b[1;32m    239\u001b[0m     steps\u001b[39m=\u001b[39;49mparams\u001b[39m.\u001b[39;49msimulation\u001b[39m.\u001b[39;49msteps,\n\u001b[1;32m    240\u001b[0m     mistrust\u001b[39m=\u001b[39;49mparams\u001b[39m.\u001b[39;49mmistrust,\n\u001b[1;32m    241\u001b[0m     lowerupper\u001b[39m=\u001b[39;49mparams\u001b[39m.\u001b[39;49mlowerupper,\n\u001b[1;32m    242\u001b[0m     upperlower\u001b[39m=\u001b[39;49mparams\u001b[39m.\u001b[39;49mupperlower,\n\u001b[1;32m    243\u001b[0m     hooks\u001b[39m=\u001b[39;49mhooks,\n\u001b[1;32m    244\u001b[0m )\n\u001b[1;32m    245\u001b[0m results\u001b[39m.\u001b[39madd(\u001b[39m*\u001b[39mresult)\n\u001b[1;32m    246\u001b[0m log\u001b[39m.\u001b[39minfo(\n\u001b[1;32m    247\u001b[0m     \u001b[39m\"\u001b[39m\u001b[39mSim #\u001b[39m\u001b[39m{:04d}\u001b[39;00m\u001b[39m: \u001b[39m\u001b[39m\"\u001b[39m\n\u001b[1;32m    248\u001b[0m     \u001b[39m\"\u001b[39m\u001b[39m{:6d}\u001b[39;00m\u001b[39m steps \u001b[39m\u001b[39m\"\u001b[39m\n\u001b[0;32m   (...)\u001b[0m\n\u001b[1;32m    253\u001b[0m     \u001b[39m\"\u001b[39m\u001b[39mpolarized: \u001b[39m\u001b[39m{:<1}\u001b[39;00m\u001b[39m \u001b[39m\u001b[39m\"\u001b[39m\u001b[39m.\u001b[39mformat(idx \u001b[39m+\u001b[39m \u001b[39m1\u001b[39m, \u001b[39m*\u001b[39mresult)\n\u001b[1;32m    254\u001b[0m )\n",
      "File \u001b[0;32m/opt/anaconda3/envs/polygraphs/lib/python3.8/site-packages/polygraphs-1-py3.8.egg/polygraphs/__init__.py:285\u001b[0m, in \u001b[0;36msimulate_\u001b[0;34m(graph, model, steps, hooks, mistrust, lowerupper, upperlower)\u001b[0m\n\u001b[1;32m    283\u001b[0m step \u001b[39m+\u001b[39m\u001b[39m=\u001b[39m \u001b[39m1\u001b[39m\n\u001b[1;32m    284\u001b[0m \u001b[39m# Forward operation on the graph\u001b[39;00m\n\u001b[0;32m--> 285\u001b[0m _ \u001b[39m=\u001b[39m model(graph)\n\u001b[1;32m    286\u001b[0m \u001b[39m# Monitor progress\u001b[39;00m\n\u001b[1;32m    287\u001b[0m \u001b[39mif\u001b[39;00m hooks:\n",
      "File \u001b[0;32m/opt/anaconda3/envs/polygraphs/lib/python3.8/site-packages/torch/nn/modules/module.py:1130\u001b[0m, in \u001b[0;36mModule._call_impl\u001b[0;34m(self, *input, **kwargs)\u001b[0m\n\u001b[1;32m   1126\u001b[0m \u001b[39m# If we don't have any hooks, we want to skip the rest of the logic in\u001b[39;00m\n\u001b[1;32m   1127\u001b[0m \u001b[39m# this function, and just call forward.\u001b[39;00m\n\u001b[1;32m   1128\u001b[0m \u001b[39mif\u001b[39;00m \u001b[39mnot\u001b[39;00m (\u001b[39mself\u001b[39m\u001b[39m.\u001b[39m_backward_hooks \u001b[39mor\u001b[39;00m \u001b[39mself\u001b[39m\u001b[39m.\u001b[39m_forward_hooks \u001b[39mor\u001b[39;00m \u001b[39mself\u001b[39m\u001b[39m.\u001b[39m_forward_pre_hooks \u001b[39mor\u001b[39;00m _global_backward_hooks\n\u001b[1;32m   1129\u001b[0m         \u001b[39mor\u001b[39;00m _global_forward_hooks \u001b[39mor\u001b[39;00m _global_forward_pre_hooks):\n\u001b[0;32m-> 1130\u001b[0m     \u001b[39mreturn\u001b[39;00m forward_call(\u001b[39m*\u001b[39;49m\u001b[39minput\u001b[39;49m, \u001b[39m*\u001b[39;49m\u001b[39m*\u001b[39;49mkwargs)\n\u001b[1;32m   1131\u001b[0m \u001b[39m# Do not call functions when jit is used\u001b[39;00m\n\u001b[1;32m   1132\u001b[0m full_backward_hooks, non_full_backward_hooks \u001b[39m=\u001b[39m [], []\n",
      "File \u001b[0;32m/opt/anaconda3/envs/polygraphs/lib/python3.8/site-packages/polygraphs-1-py3.8.egg/polygraphs/ops/core.py:116\u001b[0m, in \u001b[0;36mPolyGraphOp.forward\u001b[0;34m(self, graph, *args, **kwargs)\u001b[0m\n\u001b[1;32m    113\u001b[0m edges \u001b[39m=\u001b[39m graph\u001b[39m.\u001b[39mfilter_edges(\u001b[39mself\u001b[39m\u001b[39m.\u001b[39mfilterfn())\n\u001b[1;32m    114\u001b[0m \u001b[39m# Send messages along valid edges; and receive them at\u001b[39;00m\n\u001b[1;32m    115\u001b[0m \u001b[39m# edge destination nodes\u001b[39;00m\n\u001b[0;32m--> 116\u001b[0m graph\u001b[39m.\u001b[39;49msend_and_recv(edges, \u001b[39mself\u001b[39;49m\u001b[39m.\u001b[39;49mmessagefn(), \u001b[39mself\u001b[39;49m\u001b[39m.\u001b[39;49mreducefn(), \u001b[39mself\u001b[39;49m\u001b[39m.\u001b[39;49mapplyfn())\n\u001b[1;32m    117\u001b[0m \u001b[39mreturn\u001b[39;00m graph\u001b[39m.\u001b[39mndata[\u001b[39m\"\u001b[39m\u001b[39mbeliefs\u001b[39m\u001b[39m\"\u001b[39m]\n",
      "File \u001b[0;32m/opt/anaconda3/envs/polygraphs/lib/python3.8/site-packages/dgl/heterograph.py:4419\u001b[0m, in \u001b[0;36mDGLHeteroGraph.send_and_recv\u001b[0;34m(self, edges, message_func, reduce_func, apply_node_func, etype, inplace)\u001b[0m\n\u001b[1;32m   4417\u001b[0m g \u001b[39m=\u001b[39m \u001b[39mself\u001b[39m \u001b[39mif\u001b[39;00m etype \u001b[39mis\u001b[39;00m \u001b[39mNone\u001b[39;00m \u001b[39melse\u001b[39;00m \u001b[39mself\u001b[39m[etype]\n\u001b[1;32m   4418\u001b[0m compute_graph, _, dstnodes, _ \u001b[39m=\u001b[39m _create_compute_graph(g, u, v, eid)\n\u001b[0;32m-> 4419\u001b[0m ndata \u001b[39m=\u001b[39m core\u001b[39m.\u001b[39;49mmessage_passing(\n\u001b[1;32m   4420\u001b[0m     compute_graph, message_func, reduce_func, apply_node_func)\n\u001b[1;32m   4421\u001b[0m \u001b[39mself\u001b[39m\u001b[39m.\u001b[39m_set_n_repr(dtid, dstnodes, ndata)\n",
      "File \u001b[0;32m/opt/anaconda3/envs/polygraphs/lib/python3.8/site-packages/dgl/core.py:298\u001b[0m, in \u001b[0;36mmessage_passing\u001b[0;34m(g, mfunc, rfunc, afunc)\u001b[0m\n\u001b[1;32m    296\u001b[0m     \u001b[39melse\u001b[39;00m:\n\u001b[1;32m    297\u001b[0m         orig_nid \u001b[39m=\u001b[39m g\u001b[39m.\u001b[39mdstdata\u001b[39m.\u001b[39mget(NID, \u001b[39mNone\u001b[39;00m)\n\u001b[0;32m--> 298\u001b[0m         ndata \u001b[39m=\u001b[39m invoke_udf_reduce(g, rfunc, msgdata, orig_nid\u001b[39m=\u001b[39;49morig_nid)\n\u001b[1;32m    299\u001b[0m \u001b[39m# apply phase\u001b[39;00m\n\u001b[1;32m    300\u001b[0m \u001b[39mif\u001b[39;00m afunc \u001b[39mis\u001b[39;00m \u001b[39mnot\u001b[39;00m \u001b[39mNone\u001b[39;00m:\n",
      "File \u001b[0;32m/opt/anaconda3/envs/polygraphs/lib/python3.8/site-packages/dgl/core.py:143\u001b[0m, in \u001b[0;36minvoke_udf_reduce\u001b[0;34m(graph, func, msgdata, orig_nid)\u001b[0m\n\u001b[1;32m    141\u001b[0m     \u001b[39m# invoke udf\u001b[39;00m\n\u001b[1;32m    142\u001b[0m     nbatch \u001b[39m=\u001b[39m NodeBatch(graph, orig_nid_bkt, ntype, ndata_bkt, msgs\u001b[39m=\u001b[39mmaildata)\n\u001b[0;32m--> 143\u001b[0m     bkt_rsts\u001b[39m.\u001b[39mappend(func(nbatch))\n\u001b[1;32m    145\u001b[0m \u001b[39m# prepare a result frame\u001b[39;00m\n\u001b[1;32m    146\u001b[0m retf \u001b[39m=\u001b[39m Frame(num_rows\u001b[39m=\u001b[39m\u001b[39mlen\u001b[39m(nodes))\n",
      "File \u001b[0;32m/opt/anaconda3/envs/polygraphs/lib/python3.8/site-packages/polygraphs-1-py3.8.egg/polygraphs/ops/complex.py:244\u001b[0m, in \u001b[0;36mUnreliableNetworkBasicUnalignedOp.reducefn.<locals>.function\u001b[0;34m(nodes)\u001b[0m\n\u001b[1;32m    241\u001b[0m prior \u001b[39m=\u001b[39m nodes\u001b[39m.\u001b[39mdata[\u001b[39m\"\u001b[39m\u001b[39mbeliefs\u001b[39m\u001b[39m\"\u001b[39m]\n\u001b[1;32m    243\u001b[0m \u001b[39m# Number of nodes and number of neighbours per node (incoming messages)\u001b[39;00m\n\u001b[0;32m--> 244\u001b[0m _, neighbours \u001b[39m=\u001b[39m nodes\u001b[39m.\u001b[39;49mmailbox[\u001b[39m\"\u001b[39;49m\u001b[39mreliability\u001b[39;49m\u001b[39m\"\u001b[39;49m]\u001b[39m.\u001b[39mshape\n\u001b[1;32m    245\u001b[0m \u001b[39mfor\u001b[39;00m i \u001b[39min\u001b[39;00m \u001b[39mrange\u001b[39m(neighbours):\n\u001b[1;32m    246\u001b[0m     \u001b[39m# A node receives evidence E from its i-th neighbour, say Jill,\u001b[39;00m\n\u001b[1;32m    247\u001b[0m     \u001b[39m# denoting the number of successful trials and the total number\u001b[39;00m\n\u001b[1;32m    248\u001b[0m     \u001b[39m# of trials she observed\u001b[39;00m\n\u001b[1;32m    249\u001b[0m     values \u001b[39m=\u001b[39m nodes\u001b[39m.\u001b[39mmailbox[\u001b[39m\"\u001b[39m\u001b[39mpayoffs\u001b[39m\u001b[39m\"\u001b[39m][:, i, \u001b[39m0\u001b[39m]\n",
      "\u001b[0;31mKeyError\u001b[0m: 'reliability'"
     ]
    }
   ],
   "source": [
    "# Enable auto-reloading\n",
    "%reload_ext autoreload\n",
    "# 2: Reload all\n",
    "%autoreload 2\n",
    "\n",
    "import polygraphs as pg\n",
    "\n",
    "from polygraphs import hyperparameters as hparams\n",
    "from polygraphs import ops\n",
    "\n",
    "\n",
    "# Create a PolyGraph configuration\n",
    "params = hparams.PolyGraphHyperParameters()\n",
    "\n",
    "# Initial beliefs are random uniform between 0 and 1\n",
    "params.init.kind = 'uniform'\n",
    "# Chance that action B is better than action A\n",
    "params.epsilon = 0.01\n",
    "# Kind and size of network (a complete network with 10 agents)\n",
    "params.network.kind = 'complete'\n",
    "params.network.size = 16\n",
    "\n",
    "# Enable logging; print progress every 100 steps\n",
    "params.logging.enabled = True\n",
    "params.logging.interval = 100\n",
    "\n",
    "# Run 1,000 steps per simulation; repeat simulation 10 times\n",
    "params.simulation.steps = 0\n",
    "params.simulation.repeats = 1\n",
    "\n",
    "# Set overall reliability of the network\n",
    "params.reliability = 0.5\n",
    "\n",
    "# Set seed\n",
    "params.seed = 0\n",
    "\n",
    "pg.random(params.seed)\n",
    "_ = pg.simulate(params, op=ops.UnreliableNetworkBasicUnalignedOp)\n",
    "\n",
    "print('Bye.')"
   ]
  },
  {
   "cell_type": "code",
   "execution_count": null,
   "metadata": {},
   "outputs": [],
   "source": []
  }
 ],
 "metadata": {
  "kernelspec": {
   "display_name": "Python 3.8.13 ('polygraphs')",
   "language": "python",
   "name": "python3"
  },
  "language_info": {
   "codemirror_mode": {
    "name": "ipython",
    "version": 3
   },
   "file_extension": ".py",
   "mimetype": "text/x-python",
   "name": "python",
   "nbconvert_exporter": "python",
   "pygments_lexer": "ipython3",
   "version": "3.8.13"
  },
  "orig_nbformat": 2,
  "vscode": {
   "interpreter": {
    "hash": "85bf0e9c58eee383cf410aa2386a3c5163b13680be7e32b9f97c0a8ccc9ea0ee"
   }
  }
 },
 "nbformat": 4,
 "nbformat_minor": 2
}
