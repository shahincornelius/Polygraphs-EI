{
 "cells": [
  {
   "cell_type": "markdown",
   "metadata": {},
   "source": [
    "# Learning from neighbours\n",
    "\n",
    "_Figure 2, page 58, from the book \"Misinformation Age\" by O'Connor & Weatherall_"
   ]
  },
  {
   "cell_type": "code",
   "execution_count": null,
   "metadata": {},
   "outputs": [],
   "source": [
    "# Enable auto-reloading\n",
    "%reload_ext autoreload\n",
    "# 2: Reload all\n",
    "%autoreload 2\n",
    "\n",
    "import torch\n",
    "\n",
    "import polygraphs as pg\n",
    "\n",
    "from polygraphs import hyperparameters as hparams\n",
    "from polygraphs import ops\n",
    "from polygraphs import graphs\n",
    "\n",
    "\n",
    "# When the mistruct multiplier is 0, `OConnorWeatherallOp` is equivalent to `BalaGoyalOp`.\n",
    "_PARENT_OP = ops.OConnorWeatherallOp\n",
    "\n",
    "\n",
    "class SimpleOp(_PARENT_OP):\n",
    "    \"\"\"\n",
    "    Overides local signal observed by each agent in the network.\n",
    "    \"\"\"\n",
    "    def sample(self):\n",
    "        return torch.Tensor([6, 5, 7, 4, 2, 5])\n",
    "\n",
    "    def trials(self):\n",
    "        return torch.full((6,), 10)\n",
    "\n",
    "\n",
    "# Create a PolyGraph configuration\n",
    "params = hparams.PolyGraphHyperParameters()\n",
    "\n",
    "# Initial beliefs are hard-coded\n",
    "params.init.kind = 'constant'\n",
    "params.init.constant.value = [0.32, 0.21, 0.56, 0.43, 0.02, 0.59]\n",
    "# Chance that action B is better than action A\n",
    "params.epsilon = 0.1\n",
    "# Consider sample network with 6 agents\n",
    "params.network.kind = 'sample'\n",
    "\n",
    "# Create a DGL graph with given configuration\n",
    "graph = graphs.create(params.network)\n",
    "# Create a model with given configuration\n",
    "model = SimpleOp(graph, params)\n",
    "\n",
    "\n",
    "result = model(graph)\n",
    "\n",
    "# Run a single simulation step\n",
    "_ = pg.simulate_(graph, model, steps=1)\n",
    "\n",
    "# Print agent beliefs after 1 step\n",
    "print('New beliefs are', graph.ndata['beliefs'].numpy().round(2))\n",
    "print('Bye.')"
   ]
  },
  {
   "cell_type": "code",
   "execution_count": null,
   "metadata": {},
   "outputs": [],
   "source": []
  }
 ],
 "metadata": {
  "kernelspec": {
   "display_name": "Python 3.8.9 ('.venv': venv)",
   "language": "python",
   "name": "python3"
  },
  "language_info": {
   "codemirror_mode": {
    "name": "ipython",
    "version": 3
   },
   "file_extension": ".py",
   "mimetype": "text/x-python",
   "name": "python",
   "nbconvert_exporter": "python",
   "pygments_lexer": "ipython3",
   "version": "3.8.9"
  },
  "metadata": {
   "interpreter": {
    "hash": "0a74be578f407511512a3ac8e6d80012f89358da3366b0f35214a2118232016e"
   }
  },
  "orig_nbformat": 2,
  "vscode": {
   "interpreter": {
    "hash": "99d2daaa40f0c21b26b27a5491cef7acb4d77d22705671ecaa8729c6260e1a86"
   }
  }
 },
 "nbformat": 4,
 "nbformat_minor": 2
}
