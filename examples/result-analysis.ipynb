{
 "cells": [
  {
   "cell_type": "code",
   "execution_count": 1,
   "metadata": {},
   "outputs": [],
   "source": [
    "%matplotlib inline\n",
    "\n",
    "import matplotlib.pyplot as plt\n",
    "import pandas as pd\n",
    "\n",
    "\n",
    "def myfilter(data, epsilon=None, trials=None, size=None, extras=None):\n",
    "    \"\"\"\n",
    "    Filters rows.\n",
    "    \"\"\"\n",
    "    if epsilon is not None:\n",
    "        data = data.query(f\"epsilon == {epsilon}\")\n",
    "    \n",
    "    if trials is not None:\n",
    "        data = data.query(f\"trials == {trials}\")\n",
    "    \n",
    "    if size is not None:\n",
    "        data = data.query(f\"size == {size}\")\n",
    "    \n",
    "    if extras is not None:\n",
    "        data = data.query(extras)\n",
    "\n",
    "    return data\n",
    "\n",
    "\n",
    "def bcdf(data):\n",
    "    \"\"\"\n",
    "    Returns how many simulations converged to 'B' with density less than X.\n",
    "    \"\"\"\n",
    "    df = data.copy()\n",
    "    df['B'] = (df.action == 'B').astype(int)\n",
    "    df['C'] = (df.converged == True).astype(int)\n",
    "\n",
    "    df0 = df.copy()\n",
    "\n",
    "    # Sort values by clustering coefficient\n",
    "    df0 = df0.sort_values(\"clustering\", ascending=True)\n",
    "\n",
    "    df0['S0'] = df0['C'].cumsum()\n",
    "    df0['S'] = df0['B'].cumsum()\n",
    "    df0['S'] = df0['S'] / df0['S0']\n",
    "\n",
    "    df1 = df.copy()\n",
    "\n",
    "    # Sort values by density\n",
    "    df1 = df1.sort_values(\"density\", ascending=True)\n",
    "\n",
    "    df1['S0'] = df1['C'].cumsum()\n",
    "    df1['S'] = df1['B'].cumsum()\n",
    "    df1['S'] = df1['S'] / df1['S0']\n",
    "\n",
    "    fig, axes = plt.subplots(nrows=1, ncols=2, figsize=(10, 5))\n",
    "\n",
    "    df0.plot(\"clustering\", \"S\", ax=axes[0], xlim=[0, 1], ylim=[0.6, 1], style=\".-\")\n",
    "    df1.plot(\"density\", \"S\", ax=axes[1], xlim=[0, 1], ylim=[0.6, 1], style=\".-\")\n",
    "\n",
    "    # axes[0].plot([0, 1], [0, 1], transform=axes[0].transAxes)\n",
    "    # axes[1].plot([0, 1], [0, 1], transform=axes[1].transAxes)\n"
   ]
  },
  {
   "cell_type": "code",
   "execution_count": 2,
   "metadata": {},
   "outputs": [
    {
     "ename": "FileNotFoundError",
     "evalue": "[Errno 2] No such file or directory: '../polygraphs-cache/zollman-effect/summary/complete.csv'",
     "output_type": "error",
     "traceback": [
      "\u001b[0;31m---------------------------------------------------------------------------\u001b[0m",
      "\u001b[0;31mFileNotFoundError\u001b[0m                         Traceback (most recent call last)",
      "Cell \u001b[0;32mIn[2], line 1\u001b[0m\n\u001b[0;32m----> 1\u001b[0m complete1 \u001b[38;5;241m=\u001b[39m pd\u001b[38;5;241m.\u001b[39mread_csv(\u001b[38;5;124mf\u001b[39m\u001b[38;5;124m\"\u001b[39m\u001b[38;5;124m../polygraphs-cache/zollman-effect/summary/complete.csv\u001b[39m\u001b[38;5;124m\"\u001b[39m)\n\u001b[1;32m      2\u001b[0m complete1\u001b[38;5;241m.\u001b[39mgroupby(\u001b[38;5;124m\"\u001b[39m\u001b[38;5;124mepsilon\u001b[39m\u001b[38;5;124m\"\u001b[39m)\u001b[38;5;241m.\u001b[39mcount()\n",
      "File \u001b[0;32m~/anaconda3/envs/polygraphs/lib/python3.11/site-packages/pandas/io/parsers/readers.py:1026\u001b[0m, in \u001b[0;36mread_csv\u001b[0;34m(filepath_or_buffer, sep, delimiter, header, names, index_col, usecols, dtype, engine, converters, true_values, false_values, skipinitialspace, skiprows, skipfooter, nrows, na_values, keep_default_na, na_filter, verbose, skip_blank_lines, parse_dates, infer_datetime_format, keep_date_col, date_parser, date_format, dayfirst, cache_dates, iterator, chunksize, compression, thousands, decimal, lineterminator, quotechar, quoting, doublequote, escapechar, comment, encoding, encoding_errors, dialect, on_bad_lines, delim_whitespace, low_memory, memory_map, float_precision, storage_options, dtype_backend)\u001b[0m\n\u001b[1;32m   1013\u001b[0m kwds_defaults \u001b[38;5;241m=\u001b[39m _refine_defaults_read(\n\u001b[1;32m   1014\u001b[0m     dialect,\n\u001b[1;32m   1015\u001b[0m     delimiter,\n\u001b[0;32m   (...)\u001b[0m\n\u001b[1;32m   1022\u001b[0m     dtype_backend\u001b[38;5;241m=\u001b[39mdtype_backend,\n\u001b[1;32m   1023\u001b[0m )\n\u001b[1;32m   1024\u001b[0m kwds\u001b[38;5;241m.\u001b[39mupdate(kwds_defaults)\n\u001b[0;32m-> 1026\u001b[0m \u001b[38;5;28;01mreturn\u001b[39;00m _read(filepath_or_buffer, kwds)\n",
      "File \u001b[0;32m~/anaconda3/envs/polygraphs/lib/python3.11/site-packages/pandas/io/parsers/readers.py:620\u001b[0m, in \u001b[0;36m_read\u001b[0;34m(filepath_or_buffer, kwds)\u001b[0m\n\u001b[1;32m    617\u001b[0m _validate_names(kwds\u001b[38;5;241m.\u001b[39mget(\u001b[38;5;124m\"\u001b[39m\u001b[38;5;124mnames\u001b[39m\u001b[38;5;124m\"\u001b[39m, \u001b[38;5;28;01mNone\u001b[39;00m))\n\u001b[1;32m    619\u001b[0m \u001b[38;5;66;03m# Create the parser.\u001b[39;00m\n\u001b[0;32m--> 620\u001b[0m parser \u001b[38;5;241m=\u001b[39m TextFileReader(filepath_or_buffer, \u001b[38;5;241m*\u001b[39m\u001b[38;5;241m*\u001b[39mkwds)\n\u001b[1;32m    622\u001b[0m \u001b[38;5;28;01mif\u001b[39;00m chunksize \u001b[38;5;129;01mor\u001b[39;00m iterator:\n\u001b[1;32m    623\u001b[0m     \u001b[38;5;28;01mreturn\u001b[39;00m parser\n",
      "File \u001b[0;32m~/anaconda3/envs/polygraphs/lib/python3.11/site-packages/pandas/io/parsers/readers.py:1620\u001b[0m, in \u001b[0;36mTextFileReader.__init__\u001b[0;34m(self, f, engine, **kwds)\u001b[0m\n\u001b[1;32m   1617\u001b[0m     \u001b[38;5;28mself\u001b[39m\u001b[38;5;241m.\u001b[39moptions[\u001b[38;5;124m\"\u001b[39m\u001b[38;5;124mhas_index_names\u001b[39m\u001b[38;5;124m\"\u001b[39m] \u001b[38;5;241m=\u001b[39m kwds[\u001b[38;5;124m\"\u001b[39m\u001b[38;5;124mhas_index_names\u001b[39m\u001b[38;5;124m\"\u001b[39m]\n\u001b[1;32m   1619\u001b[0m \u001b[38;5;28mself\u001b[39m\u001b[38;5;241m.\u001b[39mhandles: IOHandles \u001b[38;5;241m|\u001b[39m \u001b[38;5;28;01mNone\u001b[39;00m \u001b[38;5;241m=\u001b[39m \u001b[38;5;28;01mNone\u001b[39;00m\n\u001b[0;32m-> 1620\u001b[0m \u001b[38;5;28mself\u001b[39m\u001b[38;5;241m.\u001b[39m_engine \u001b[38;5;241m=\u001b[39m \u001b[38;5;28mself\u001b[39m\u001b[38;5;241m.\u001b[39m_make_engine(f, \u001b[38;5;28mself\u001b[39m\u001b[38;5;241m.\u001b[39mengine)\n",
      "File \u001b[0;32m~/anaconda3/envs/polygraphs/lib/python3.11/site-packages/pandas/io/parsers/readers.py:1880\u001b[0m, in \u001b[0;36mTextFileReader._make_engine\u001b[0;34m(self, f, engine)\u001b[0m\n\u001b[1;32m   1878\u001b[0m     \u001b[38;5;28;01mif\u001b[39;00m \u001b[38;5;124m\"\u001b[39m\u001b[38;5;124mb\u001b[39m\u001b[38;5;124m\"\u001b[39m \u001b[38;5;129;01mnot\u001b[39;00m \u001b[38;5;129;01min\u001b[39;00m mode:\n\u001b[1;32m   1879\u001b[0m         mode \u001b[38;5;241m+\u001b[39m\u001b[38;5;241m=\u001b[39m \u001b[38;5;124m\"\u001b[39m\u001b[38;5;124mb\u001b[39m\u001b[38;5;124m\"\u001b[39m\n\u001b[0;32m-> 1880\u001b[0m \u001b[38;5;28mself\u001b[39m\u001b[38;5;241m.\u001b[39mhandles \u001b[38;5;241m=\u001b[39m get_handle(\n\u001b[1;32m   1881\u001b[0m     f,\n\u001b[1;32m   1882\u001b[0m     mode,\n\u001b[1;32m   1883\u001b[0m     encoding\u001b[38;5;241m=\u001b[39m\u001b[38;5;28mself\u001b[39m\u001b[38;5;241m.\u001b[39moptions\u001b[38;5;241m.\u001b[39mget(\u001b[38;5;124m\"\u001b[39m\u001b[38;5;124mencoding\u001b[39m\u001b[38;5;124m\"\u001b[39m, \u001b[38;5;28;01mNone\u001b[39;00m),\n\u001b[1;32m   1884\u001b[0m     compression\u001b[38;5;241m=\u001b[39m\u001b[38;5;28mself\u001b[39m\u001b[38;5;241m.\u001b[39moptions\u001b[38;5;241m.\u001b[39mget(\u001b[38;5;124m\"\u001b[39m\u001b[38;5;124mcompression\u001b[39m\u001b[38;5;124m\"\u001b[39m, \u001b[38;5;28;01mNone\u001b[39;00m),\n\u001b[1;32m   1885\u001b[0m     memory_map\u001b[38;5;241m=\u001b[39m\u001b[38;5;28mself\u001b[39m\u001b[38;5;241m.\u001b[39moptions\u001b[38;5;241m.\u001b[39mget(\u001b[38;5;124m\"\u001b[39m\u001b[38;5;124mmemory_map\u001b[39m\u001b[38;5;124m\"\u001b[39m, \u001b[38;5;28;01mFalse\u001b[39;00m),\n\u001b[1;32m   1886\u001b[0m     is_text\u001b[38;5;241m=\u001b[39mis_text,\n\u001b[1;32m   1887\u001b[0m     errors\u001b[38;5;241m=\u001b[39m\u001b[38;5;28mself\u001b[39m\u001b[38;5;241m.\u001b[39moptions\u001b[38;5;241m.\u001b[39mget(\u001b[38;5;124m\"\u001b[39m\u001b[38;5;124mencoding_errors\u001b[39m\u001b[38;5;124m\"\u001b[39m, \u001b[38;5;124m\"\u001b[39m\u001b[38;5;124mstrict\u001b[39m\u001b[38;5;124m\"\u001b[39m),\n\u001b[1;32m   1888\u001b[0m     storage_options\u001b[38;5;241m=\u001b[39m\u001b[38;5;28mself\u001b[39m\u001b[38;5;241m.\u001b[39moptions\u001b[38;5;241m.\u001b[39mget(\u001b[38;5;124m\"\u001b[39m\u001b[38;5;124mstorage_options\u001b[39m\u001b[38;5;124m\"\u001b[39m, \u001b[38;5;28;01mNone\u001b[39;00m),\n\u001b[1;32m   1889\u001b[0m )\n\u001b[1;32m   1890\u001b[0m \u001b[38;5;28;01massert\u001b[39;00m \u001b[38;5;28mself\u001b[39m\u001b[38;5;241m.\u001b[39mhandles \u001b[38;5;129;01mis\u001b[39;00m \u001b[38;5;129;01mnot\u001b[39;00m \u001b[38;5;28;01mNone\u001b[39;00m\n\u001b[1;32m   1891\u001b[0m f \u001b[38;5;241m=\u001b[39m \u001b[38;5;28mself\u001b[39m\u001b[38;5;241m.\u001b[39mhandles\u001b[38;5;241m.\u001b[39mhandle\n",
      "File \u001b[0;32m~/anaconda3/envs/polygraphs/lib/python3.11/site-packages/pandas/io/common.py:873\u001b[0m, in \u001b[0;36mget_handle\u001b[0;34m(path_or_buf, mode, encoding, compression, memory_map, is_text, errors, storage_options)\u001b[0m\n\u001b[1;32m    868\u001b[0m \u001b[38;5;28;01melif\u001b[39;00m \u001b[38;5;28misinstance\u001b[39m(handle, \u001b[38;5;28mstr\u001b[39m):\n\u001b[1;32m    869\u001b[0m     \u001b[38;5;66;03m# Check whether the filename is to be opened in binary mode.\u001b[39;00m\n\u001b[1;32m    870\u001b[0m     \u001b[38;5;66;03m# Binary mode does not support 'encoding' and 'newline'.\u001b[39;00m\n\u001b[1;32m    871\u001b[0m     \u001b[38;5;28;01mif\u001b[39;00m ioargs\u001b[38;5;241m.\u001b[39mencoding \u001b[38;5;129;01mand\u001b[39;00m \u001b[38;5;124m\"\u001b[39m\u001b[38;5;124mb\u001b[39m\u001b[38;5;124m\"\u001b[39m \u001b[38;5;129;01mnot\u001b[39;00m \u001b[38;5;129;01min\u001b[39;00m ioargs\u001b[38;5;241m.\u001b[39mmode:\n\u001b[1;32m    872\u001b[0m         \u001b[38;5;66;03m# Encoding\u001b[39;00m\n\u001b[0;32m--> 873\u001b[0m         handle \u001b[38;5;241m=\u001b[39m \u001b[38;5;28mopen\u001b[39m(\n\u001b[1;32m    874\u001b[0m             handle,\n\u001b[1;32m    875\u001b[0m             ioargs\u001b[38;5;241m.\u001b[39mmode,\n\u001b[1;32m    876\u001b[0m             encoding\u001b[38;5;241m=\u001b[39mioargs\u001b[38;5;241m.\u001b[39mencoding,\n\u001b[1;32m    877\u001b[0m             errors\u001b[38;5;241m=\u001b[39merrors,\n\u001b[1;32m    878\u001b[0m             newline\u001b[38;5;241m=\u001b[39m\u001b[38;5;124m\"\u001b[39m\u001b[38;5;124m\"\u001b[39m,\n\u001b[1;32m    879\u001b[0m         )\n\u001b[1;32m    880\u001b[0m     \u001b[38;5;28;01melse\u001b[39;00m:\n\u001b[1;32m    881\u001b[0m         \u001b[38;5;66;03m# Binary mode\u001b[39;00m\n\u001b[1;32m    882\u001b[0m         handle \u001b[38;5;241m=\u001b[39m \u001b[38;5;28mopen\u001b[39m(handle, ioargs\u001b[38;5;241m.\u001b[39mmode)\n",
      "\u001b[0;31mFileNotFoundError\u001b[0m: [Errno 2] No such file or directory: '../polygraphs-cache/zollman-effect/summary/complete.csv'"
     ]
    }
   ],
   "source": [
    "complete1 = pd.read_csv(f\"../polygraphs-cache/zollman-effect/summary/complete.csv\")\n",
    "complete1.groupby(\"epsilon\").count()"
   ]
  },
  {
   "cell_type": "markdown",
   "metadata": {},
   "source": [
    "# 1. Polarisation\n",
    "\n",
    "##### Notes\n",
    "\n",
    "Compare rates of ignorance in polarization models _vs_ Zollman effect models.\n",
    "\n",
    "Restrict attention to complete networks, and give separate data for different mistrust factors $m$ in the polarization models.\n",
    "\n",
    "Table shows how many simulations were run for each set of parameters, and how many converged to $B$."
   ]
  },
  {
   "cell_type": "code",
   "execution_count": null,
   "metadata": {},
   "outputs": [],
   "source": [
    "complete = pd.read_csv(\"../polygraphs-cache/polarisation/summary/complete.csv\")\n",
    "complete"
   ]
  },
  {
   "cell_type": "code",
   "execution_count": null,
   "metadata": {},
   "outputs": [],
   "source": [
    "# Total number of simulations\n",
    "# N = complete.converged.count()\n",
    "# print(N)\n",
    "\n",
    "# Simulations that were polarised\n",
    "# B = complete.query(\"polarized == True\")\n",
    "\n",
    "# Simulations that converged to action 'B' \n",
    "# C = complete.query(\"action == 'B'\")\n",
    "\n",
    "# Simulations that converged to action 'A'\n",
    "# D = complete.query(\"action == 'A'\")\n",
    "\n",
    "complete.antiupdating.unique()"
   ]
  },
  {
   "cell_type": "code",
   "execution_count": null,
   "metadata": {},
   "outputs": [],
   "source": [
    "import numpy as np\n",
    "\n",
    "# Size 4, 16, 64; Epsilon values are 0.1, 0.01, 0.001\n",
    "\n",
    "results0 = [[None, None, None], [None, None, None], [None, None, None]]\n",
    "results1 = [[None, None, None], [None, None, None], [None, None, None]]\n",
    "\n",
    "# Plot titles\n",
    "titles = [[None, None, None], [None, None, None], [None, None, None]]\n",
    "\n",
    "def process():\n",
    "\n",
    "    for i, size in enumerate([4, 16, 64]):\n",
    "        for j, epsilon in enumerate([0.1, 0.01, 0.001]):\n",
    "\n",
    "            print(f\"Network size is {size:2d}, epsilon is {epsilon:5.3f}, ({i}, {j})\")\n",
    "\n",
    "            titles[i][j] = f\"$N$ = {size}, $\\epsilon$ = {epsilon}\"\n",
    "            \n",
    "            # Compute results: % converged to B and number of steps to converge to B\n",
    "            ht0 = {}\n",
    "            ht1 = {}\n",
    "\n",
    "            # First, Bayes' rule\n",
    "            complete = pd.read_csv(f\"../polygraphs-cache/zollman-effect/summary/complete2.csv\")\n",
    "\n",
    "            # Filter by size and epsilon\n",
    "            data = myfilter(complete, size=size, epsilon=epsilon, extras=\"trials <= 64 & op == 'BalaGoyalOp'\")\n",
    "\n",
    "            # Simulations that converged to action 'B' \n",
    "            converged = data.query(\"action == 'B'\")\n",
    "\n",
    "            ht0[\"B 0.0\"] = len(converged) / len(data)\n",
    "\n",
    "            print(len(converged), \"out of\", len(data))\n",
    "\n",
    "            steps = []\n",
    "            for _, row in converged.iterrows():\n",
    "                steps.append(row.steps)\n",
    "            \n",
    "            ht1[\"B 0.0\"] = steps\n",
    "\n",
    "            # Second, Jeffrey's rule\n",
    "            complete = pd.read_csv(\"../polygraphs-cache/polarisation/summary/complete.csv\")\n",
    "\n",
    "            # Filter by size and epsilon\n",
    "            data = myfilter(complete, size=size, epsilon=epsilon, extras=\"trials <= 64\")\n",
    "\n",
    "            # Total number of simulations for a given mistrust value\n",
    "            counts = {}\n",
    "            # Number of simulations that converged to 'B' for a given mistrust value\n",
    "            converged = {}\n",
    "            # Number of steps to converge to 'B' for a given mistrust value\n",
    "            steps = {}\n",
    "            for _, row in data.iterrows():\n",
    "                key = row.mistrust\n",
    "\n",
    "                # Total count \n",
    "                if key in counts:\n",
    "                    counts[key] += 1\n",
    "                else:\n",
    "                    counts[key] = 1\n",
    "                \n",
    "                if row.action == \"B\":\n",
    "                    # Count converged\n",
    "                    if key in converged:\n",
    "                        converged[key] += 1\n",
    "                        steps[key].append(row.steps)\n",
    "                    else:\n",
    "                        converged[key] = 1\n",
    "                        steps[key] = [row.steps]\n",
    "\n",
    "            print(counts)\n",
    "            print(converged)\n",
    "\n",
    "            for key in [\"1.0\", \"1.1\", \"1.5\"]:\n",
    "                key_ = f\"J {key}\"\n",
    "                k = float(key)\n",
    "                ht0[key_] = float(converged[k]) / float(counts[k])\n",
    "                ht1[key_] = steps[k]\n",
    "\n",
    "            # Store results\n",
    "            results0[i][j] = ht0\n",
    "            results1[i][j] = ht1\n",
    "\n",
    "process()"
   ]
  },
  {
   "cell_type": "code",
   "execution_count": null,
   "metadata": {},
   "outputs": [],
   "source": [
    "# Plot\n",
    "\n",
    "fig0, axes0 = plt.subplots(3, 3, sharex=True, sharey=True, figsize=(20, 10))\n",
    "\n",
    "for i in range(3):\n",
    "    for j in range(3):\n",
    "        axes0[i][j].set(ylim=[0, 1], title=titles[i][j])\n",
    "        if j == 0:\n",
    "            axes0[i][j].set(ylabel=\"% converged to 'B'\")\n",
    "\n",
    "        axes0[i][j].bar(results0[i][j].keys(),\n",
    "                        results0[i][j].values())\n",
    "\n",
    "fig1, axes1 = plt.subplots(3, 3, figsize=(20, 10))\n",
    "\n",
    "for i in range(3):\n",
    "    for j in range(3):\n",
    "\n",
    "        axes1[i][j].set(title=titles[i][j])\n",
    "        if j == 0:\n",
    "            axes1[i][j].set(ylabel=\"# Steps\")\n",
    "\n",
    "        means = []\n",
    "        for value in results1[i][j].values():\n",
    "            mu = np.mean(value)\n",
    "            means.append(mu)\n",
    "\n",
    "        axes1[i][j].boxplot(results1[i][j].values(), showmeans=True, whis=[5, 95], showfliers=False)\n",
    "        axes1[i][j].set_xticklabels(results1[i][j].keys())\n",
    "\n"
   ]
  },
  {
   "cell_type": "code",
   "execution_count": null,
   "metadata": {},
   "outputs": [],
   "source": [
    "complete.query(\"epsilon == 0.001 & trials == 4 & mistrust == 1\").groupby(\"size\").count()"
   ]
  },
  {
   "cell_type": "code",
   "execution_count": null,
   "metadata": {},
   "outputs": [],
   "source": [
    "B.groupby(\"mistrust\").uid.describe()"
   ]
  },
  {
   "cell_type": "markdown",
   "metadata": {},
   "source": [
    "# 2. Zollman Effect"
   ]
  },
  {
   "cell_type": "code",
   "execution_count": null,
   "metadata": {},
   "outputs": [],
   "source": [
    "# Load all networks\n",
    "\n",
    "NETWORKKINDS = [\"complete\", \"cycle\", \"random\", \"star\", \"wattsstrogatz\", \"barabasialbert\"]\n",
    "\n",
    "results = {}\n",
    "for kind in NETWORKKINDS:\n",
    "    results[kind] = pd.read_csv(f\"../polygraphs-cache/zollman-effect/summary/{kind}.csv\")"
   ]
  },
  {
   "cell_type": "markdown",
   "metadata": {},
   "source": [
    "## A. Random networks\n",
    "\n",
    "### I. Effect of density on convergence\n",
    "\n",
    "##### Notes\n",
    "\n",
    "Show percentage of simulations converging to the truth (action $B$) on the $y$ axis, and network density on the $x$ axis.\n",
    "\n",
    "Do this for each `trials` value ($\\epsilon$ at `0.001`), and then plot these all together.\n",
    "\n",
    "Extra analysis include:\n",
    "\n",
    "* Repeat the above, for each of the other $\\epsilon$ values. \n",
    "\n",
    "* Use probability of connection on the $x$ axis, rather than density."
   ]
  },
  {
   "cell_type": "code",
   "execution_count": null,
   "metadata": {},
   "outputs": [],
   "source": [
    "data = results[\"random\"].copy()\n",
    "\n",
    "print(f\"Epsilon\\t{sorted(data.epsilon.unique())}\")\n",
    "print(f\"Trials\\t{sorted(data.trials.unique())}\")\n",
    "print(f\"Size\\t{sorted(data['size'].unique())}\")\n",
    "\n",
    "data"
   ]
  },
  {
   "cell_type": "code",
   "execution_count": null,
   "metadata": {},
   "outputs": [],
   "source": [
    "data = myfilter(data, epsilon=None, trials=None, size=None)\n",
    "\n",
    "data.plot.scatter(x=\"density\",\n",
    "                  y=\"clustering\",\n",
    "                  xlim=[0, 1],\n",
    "                  ylim=[0, 1])"
   ]
  },
  {
   "cell_type": "code",
   "execution_count": null,
   "metadata": {},
   "outputs": [],
   "source": [
    "bcdf(data)"
   ]
  },
  {
   "cell_type": "code",
   "execution_count": null,
   "metadata": {},
   "outputs": [],
   "source": [
    "random[\"clustering1\"] = pd.cut(random.clustering, 5)\n",
    "random.groupby(\"clustering1\").undefined.size()"
   ]
  },
  {
   "cell_type": "code",
   "execution_count": null,
   "metadata": {},
   "outputs": [],
   "source": [
    "random.loc[random.epsilon == 0.001, ['action', 'density']]"
   ]
  },
  {
   "cell_type": "code",
   "execution_count": null,
   "metadata": {},
   "outputs": [],
   "source": [
    "random.hist('density', by=random.epsilon, bins=5)"
   ]
  },
  {
   "cell_type": "code",
   "execution_count": null,
   "metadata": {},
   "outputs": [],
   "source": [
    "data = random.copy()\n",
    "data.density = pd.cut(data.density, 5)\n",
    "B = data.query(\"epsilon == 0.001 & size > 4 & action == 'B'\").groupby(\"density\").action.count()\n",
    "N = data.query(\"epsilon == 0.001 & size > 4\").groupby(\"density\").action.count()\n",
    "result = pd.merge(B, N, on=\"density\").reset_index()\n",
    "result[\"average\"] = result.action_x / result.action_y\n",
    "result.plot(x=\"density\", y=\"average\")"
   ]
  },
  {
   "cell_type": "markdown",
   "metadata": {},
   "source": [
    "### II. Effect of density on time to convergence\n",
    "\n",
    "##### Notes\n",
    "\n",
    "Show time to convergence to $B$ on the $y$ axis, and density on the $x$ axis. \n",
    "\n",
    "Filter out any simulations that converged to A. \n",
    "\n",
    "It will be crucial to capture the mean value of $y$ (for any given $x$ value) - but it would be nice to also capture the distribution in a box plot."
   ]
  },
  {
   "cell_type": "code",
   "execution_count": null,
   "metadata": {},
   "outputs": [],
   "source": [
    "data = random.copy()\n",
    "data.density = pd.cut(data.density, 5)\n",
    "B = data.query(\"epsilon == 0.001 & action == 'B'\").groupby(\"density\").steps.describe().reset_index()\n",
    "print(B)\n",
    "B.plot.line(x=\"density\", y=\"mean\")"
   ]
  },
  {
   "cell_type": "markdown",
   "metadata": {},
   "source": [
    "## B. Watts-Strogatz networks\n",
    "\n",
    "### I. Effect of density on convergence\n",
    "\n",
    "##### Notes\n",
    "\n",
    "As with random networks.\n",
    "\n",
    "A plot showing random and Watts-Strogatz networks could be good, as it would enable direct comparison relatively easily.\n",
    "\n",
    "Plot of Wattstrogatz simulations with a given density (and so filtered by `knn`) with probability of rewiring on the $x$ axis."
   ]
  },
  {
   "cell_type": "code",
   "execution_count": null,
   "metadata": {},
   "outputs": [],
   "source": [
    "data = results[\"wattsstrogatz\"].copy()\n",
    "\n",
    "print(f\"Epsilon\\t{sorted(data.epsilon.unique())}\")\n",
    "print(f\"Trials\\t{sorted(data.trials.unique())}\")\n",
    "print(f\"Size\\t{sorted(data['size'].unique())}\")\n",
    "\n",
    "data.prob.unique()"
   ]
  },
  {
   "cell_type": "code",
   "execution_count": null,
   "metadata": {},
   "outputs": [],
   "source": [
    "data = myfilter(data, epsilon=None, trials=None, size=None) #extras=\"density > 0.2 & density < 0.4\")\n",
    "\n",
    "data.plot.scatter(x=\"density\",\n",
    "                  y=\"clustering\",\n",
    "                  xlim=[0, 1],\n",
    "                  ylim=[0, 1])"
   ]
  },
  {
   "cell_type": "code",
   "execution_count": null,
   "metadata": {},
   "outputs": [],
   "source": [
    "bcdf(data)"
   ]
  },
  {
   "cell_type": "code",
   "execution_count": null,
   "metadata": {},
   "outputs": [],
   "source": [
    "wattsstrogatz[\"clustering1\"] = pd.cut(wattsstrogatz.clustering, 5)\n",
    "wattsstrogatz.groupby(\"clustering1\").undefined.size()"
   ]
  },
  {
   "cell_type": "code",
   "execution_count": null,
   "metadata": {},
   "outputs": [],
   "source": [
    "data = wattsstrogatz.copy()\n",
    "data.density = pd.cut(data.density, 4)\n",
    "B = data.query(\"epsilon == 0.001 & size > 0 & action == 'B'\").groupby(\"density\").action.count()\n",
    "N = data.query(\"epsilon == 0.001 & size > 0\").groupby(\"density\").action.count()\n",
    "result = pd.merge(B, N, on=\"density\").reset_index()\n",
    "result[\"average\"] = result.action_x / result.action_y\n",
    "result.plot(x=\"density\", y=\"average\")"
   ]
  },
  {
   "cell_type": "markdown",
   "metadata": {},
   "source": [
    "### II. Effect of density on time to convergence\n",
    "\n",
    "##### Notes\n",
    "\n",
    "As with random networks."
   ]
  },
  {
   "cell_type": "code",
   "execution_count": null,
   "metadata": {},
   "outputs": [],
   "source": [
    "data = wattsstrogatz.copy()\n",
    "data.density = pd.cut(data.density, 5)\n",
    "B = data.query(\"epsilon == 0.001 & action == 'B'\").groupby(\"density\").steps.describe().reset_index()\n",
    "print(B)\n",
    "B.plot.line(x=\"density\", y=\"mean\")"
   ]
  },
  {
   "cell_type": "code",
   "execution_count": null,
   "metadata": {},
   "outputs": [],
   "source": [
    "data = wattsstrogatz.copy()\n",
    "data.clustering = pd.cut(data.clustering, 4)\n",
    "B = data.query(\"epsilon == 0.001 & size > 0 & action == 'B'\").groupby(\"clustering\").action.count()\n",
    "N = data.query(\"epsilon == 0.001 & size > 0\").groupby(\"clustering\").action.count()\n",
    "result = pd.merge(B, N, on=\"clustering\").reset_index()\n",
    "result[\"average\"] = result.action_x / result.action_y\n",
    "result.plot(x=\"clustering\", y=\"average\")"
   ]
  },
  {
   "cell_type": "code",
   "execution_count": null,
   "metadata": {},
   "outputs": [],
   "source": [
    "data = random.copy()\n",
    "data.clustering = pd.cut(data.clustering, 4)\n",
    "B = data.query(\"epsilon == 0.001 & size > 0 & action == 'B'\").groupby(\"clustering\").action.count()\n",
    "N = data.query(\"epsilon == 0.001 & size > 0\").groupby(\"clustering\").action.count()\n",
    "result = pd.merge(B, N, on=\"clustering\").reset_index()\n",
    "result[\"average\"] = result.action_x / result.action_y\n",
    "result.plot(x=\"clustering\", y=\"average\")"
   ]
  },
  {
   "cell_type": "code",
   "execution_count": null,
   "metadata": {},
   "outputs": [],
   "source": []
  },
  {
   "cell_type": "markdown",
   "metadata": {},
   "source": [
    "## B. Barabasi-Albert networks"
   ]
  },
  {
   "cell_type": "code",
   "execution_count": null,
   "metadata": {},
   "outputs": [],
   "source": [
    "data = results[\"barabasialbert\"].copy()\n",
    "\n",
    "print(f\"Epsilon\\t{sorted(data.epsilon.unique())}\")\n",
    "print(f\"Trials\\t{sorted(data.trials.unique())}\")\n",
    "print(f\"Size\\t{sorted(data['size'].unique())}\")\n",
    "\n",
    "data"
   ]
  },
  {
   "cell_type": "code",
   "execution_count": null,
   "metadata": {},
   "outputs": [],
   "source": [
    "data = myfilter(data, epsilon=None, trials=None, size=None)\n",
    "\n",
    "data.plot.scatter(x=\"density\",\n",
    "                  y=\"clustering\",\n",
    "                  xlim=[0, 1],\n",
    "                  ylim=[0, 1])"
   ]
  },
  {
   "cell_type": "code",
   "execution_count": null,
   "metadata": {},
   "outputs": [],
   "source": [
    "bcdf(data)"
   ]
  },
  {
   "cell_type": "code",
   "execution_count": null,
   "metadata": {},
   "outputs": [],
   "source": []
  }
 ],
 "metadata": {
  "kernelspec": {
   "display_name": "Python 3.8.9 ('.venv': venv)",
   "language": "python",
   "name": "python3"
  },
  "language_info": {
   "codemirror_mode": {
    "name": "ipython",
    "version": 3
   },
   "file_extension": ".py",
   "mimetype": "text/x-python",
   "name": "python",
   "nbconvert_exporter": "python",
   "pygments_lexer": "ipython3",
   "version": "3.11.9"
  },
  "orig_nbformat": 4,
  "vscode": {
   "interpreter": {
    "hash": "99d2daaa40f0c21b26b27a5491cef7acb4d77d22705671ecaa8729c6260e1a86"
   }
  }
 },
 "nbformat": 4,
 "nbformat_minor": 2
}
