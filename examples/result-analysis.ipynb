{
 "cells": [
  {
   "cell_type": "code",
   "execution_count": null,
   "metadata": {},
   "outputs": [],
   "source": [
    "%matplotlib inline\n",
    "\n",
    "import matplotlib.pyplot as plt\n",
    "import pandas as pd\n",
    "\n",
    "\n",
    "def myfilter(data, epsilon=None, trials=None, size=None, extras=None):\n",
    "    \"\"\"\n",
    "    Filters rows.\n",
    "    \"\"\"\n",
    "    if epsilon is not None:\n",
    "        data = data.query(f\"epsilon == {epsilon}\")\n",
    "    \n",
    "    if trials is not None:\n",
    "        data = data.query(f\"trials == {trials}\")\n",
    "    \n",
    "    if size is not None:\n",
    "        data = data.query(f\"size == {size}\")\n",
    "    \n",
    "    if extras is not None:\n",
    "        data = data.query(extras)\n",
    "\n",
    "    return data\n",
    "\n",
    "\n",
    "def bcdf(data):\n",
    "    \"\"\"\n",
    "    Returns how many simulations converged to 'B' with density less than X.\n",
    "    \"\"\"\n",
    "    df = data.copy()\n",
    "    df['B'] = (df.action == 'B').astype(int)\n",
    "    df['C'] = (df.converged == True).astype(int)\n",
    "\n",
    "    df0 = df.copy()\n",
    "\n",
    "    # Sort values by clustering coefficient\n",
    "    df0 = df0.sort_values(\"clustering\", ascending=True)\n",
    "\n",
    "    df0['S0'] = df0['C'].cumsum()\n",
    "    df0['S'] = df0['B'].cumsum()\n",
    "    df0['S'] = df0['S'] / df0['S0']\n",
    "\n",
    "    df1 = df.copy()\n",
    "\n",
    "    # Sort values by density\n",
    "    df1 = df1.sort_values(\"density\", ascending=True)\n",
    "\n",
    "    df1['S0'] = df1['C'].cumsum()\n",
    "    df1['S'] = df1['B'].cumsum()\n",
    "    df1['S'] = df1['S'] / df1['S0']\n",
    "\n",
    "    fig, axes = plt.subplots(nrows=1, ncols=2, figsize=(10, 5))\n",
    "\n",
    "    df0.plot(\"clustering\", \"S\", ax=axes[0], xlim=[0, 1], ylim=[0.6, 1], style=\".-\")\n",
    "    df1.plot(\"density\", \"S\", ax=axes[1], xlim=[0, 1], ylim=[0.6, 1], style=\".-\")\n",
    "\n",
    "    # axes[0].plot([0, 1], [0, 1], transform=axes[0].transAxes)\n",
    "    # axes[1].plot([0, 1], [0, 1], transform=axes[1].transAxes)\n"
   ]
  },
  {
   "cell_type": "code",
   "execution_count": null,
   "metadata": {},
   "outputs": [],
   "source": [
    "complete1 = pd.read_csv(f\"../polygraphs-cache/zollman-effect/summary/complete.csv\")\n",
    "complete1.groupby(\"epsilon\").count()"
   ]
  },
  {
   "cell_type": "markdown",
   "metadata": {},
   "source": [
    "# 1. Polarisation\n",
    "\n",
    "##### Notes\n",
    "\n",
    "Compare rates of ignorance in polarization models _vs_ Zollman effect models.\n",
    "\n",
    "Restrict attention to complete networks, and give separate data for different mistrust factors $m$ in the polarization models.\n",
    "\n",
    "Table shows how many simulations were run for each set of parameters, and how many converged to $B$."
   ]
  },
  {
   "cell_type": "code",
   "execution_count": null,
   "metadata": {},
   "outputs": [],
   "source": [
    "complete = pd.read_csv(\"../polygraphs-cache/polarisation/summary/complete.csv\")\n",
    "complete"
   ]
  },
  {
   "cell_type": "code",
   "execution_count": null,
   "metadata": {},
   "outputs": [],
   "source": [
    "# Total number of simulations\n",
    "# N = complete.converged.count()\n",
    "# print(N)\n",
    "\n",
    "# Simulations that were polarised\n",
    "# B = complete.query(\"polarized == True\")\n",
    "\n",
    "# Simulations that converged to action 'B' \n",
    "# C = complete.query(\"action == 'B'\")\n",
    "\n",
    "# Simulations that converged to action 'A'\n",
    "# D = complete.query(\"action == 'A'\")\n",
    "\n",
    "complete.antiupdating.unique()"
   ]
  },
  {
   "cell_type": "code",
   "execution_count": null,
   "metadata": {},
   "outputs": [],
   "source": [
    "import numpy as np\n",
    "\n",
    "# Size 4, 16, 64; Epsilon values are 0.1, 0.01, 0.001\n",
    "\n",
    "results0 = [[None, None, None], [None, None, None], [None, None, None]]\n",
    "results1 = [[None, None, None], [None, None, None], [None, None, None]]\n",
    "\n",
    "# Plot titles\n",
    "titles = [[None, None, None], [None, None, None], [None, None, None]]\n",
    "\n",
    "def process():\n",
    "\n",
    "    for i, size in enumerate([4, 16, 64]):\n",
    "        for j, epsilon in enumerate([0.1, 0.01, 0.001]):\n",
    "\n",
    "            print(f\"Network size is {size:2d}, epsilon is {epsilon:5.3f}, ({i}, {j})\")\n",
    "\n",
    "            titles[i][j] = f\"$N$ = {size}, $\\epsilon$ = {epsilon}\"\n",
    "            \n",
    "            # Compute results: % converged to B and number of steps to converge to B\n",
    "            ht0 = {}\n",
    "            ht1 = {}\n",
    "\n",
    "            # First, Bayes' rule\n",
    "            complete = pd.read_csv(f\"../polygraphs-cache/zollman-effect/summary/complete2.csv\")\n",
    "\n",
    "            # Filter by size and epsilon\n",
    "            data = myfilter(complete, size=size, epsilon=epsilon, extras=\"trials <= 64 & op == 'BalaGoyalOp'\")\n",
    "\n",
    "            # Simulations that converged to action 'B' \n",
    "            converged = data.query(\"action == 'B'\")\n",
    "\n",
    "            ht0[\"B 0.0\"] = len(converged) / len(data)\n",
    "\n",
    "            print(len(converged), \"out of\", len(data))\n",
    "\n",
    "            steps = []\n",
    "            for _, row in converged.iterrows():\n",
    "                steps.append(row.steps)\n",
    "            \n",
    "            ht1[\"B 0.0\"] = steps\n",
    "\n",
    "            # Second, Jeffrey's rule\n",
    "            complete = pd.read_csv(\"../polygraphs-cache/polarisation/summary/complete.csv\")\n",
    "\n",
    "            # Filter by size and epsilon\n",
    "            data = myfilter(complete, size=size, epsilon=epsilon, extras=\"trials <= 64\")\n",
    "\n",
    "            # Total number of simulations for a given mistrust value\n",
    "            counts = {}\n",
    "            # Number of simulations that converged to 'B' for a given mistrust value\n",
    "            converged = {}\n",
    "            # Number of steps to converge to 'B' for a given mistrust value\n",
    "            steps = {}\n",
    "            for _, row in data.iterrows():\n",
    "                key = row.mistrust\n",
    "\n",
    "                # Total count \n",
    "                if key in counts:\n",
    "                    counts[key] += 1\n",
    "                else:\n",
    "                    counts[key] = 1\n",
    "                \n",
    "                if row.action == \"B\":\n",
    "                    # Count converged\n",
    "                    if key in converged:\n",
    "                        converged[key] += 1\n",
    "                        steps[key].append(row.steps)\n",
    "                    else:\n",
    "                        converged[key] = 1\n",
    "                        steps[key] = [row.steps]\n",
    "\n",
    "            print(counts)\n",
    "            print(converged)\n",
    "\n",
    "            for key in [\"1.0\", \"1.1\", \"1.5\"]:\n",
    "                key_ = f\"J {key}\"\n",
    "                k = float(key)\n",
    "                ht0[key_] = float(converged[k]) / float(counts[k])\n",
    "                ht1[key_] = steps[k]\n",
    "\n",
    "            # Store results\n",
    "            results0[i][j] = ht0\n",
    "            results1[i][j] = ht1\n",
    "\n",
    "process()"
   ]
  },
  {
   "cell_type": "code",
   "execution_count": null,
   "metadata": {},
   "outputs": [],
   "source": [
    "# Plot\n",
    "\n",
    "fig0, axes0 = plt.subplots(3, 3, sharex=True, sharey=True, figsize=(20, 10))\n",
    "\n",
    "for i in range(3):\n",
    "    for j in range(3):\n",
    "        axes0[i][j].set(ylim=[0, 1], title=titles[i][j])\n",
    "        if j == 0:\n",
    "            axes0[i][j].set(ylabel=\"% converged to 'B'\")\n",
    "\n",
    "        axes0[i][j].bar(results0[i][j].keys(),\n",
    "                        results0[i][j].values())\n",
    "\n",
    "fig1, axes1 = plt.subplots(3, 3, figsize=(20, 10))\n",
    "\n",
    "for i in range(3):\n",
    "    for j in range(3):\n",
    "\n",
    "        axes1[i][j].set(title=titles[i][j])\n",
    "        if j == 0:\n",
    "            axes1[i][j].set(ylabel=\"# Steps\")\n",
    "\n",
    "        means = []\n",
    "        for value in results1[i][j].values():\n",
    "            mu = np.mean(value)\n",
    "            means.append(mu)\n",
    "\n",
    "        axes1[i][j].boxplot(results1[i][j].values(), showmeans=True, whis=[5, 95], showfliers=False)\n",
    "        axes1[i][j].set_xticklabels(results1[i][j].keys())\n",
    "\n"
   ]
  },
  {
   "cell_type": "code",
   "execution_count": null,
   "metadata": {},
   "outputs": [],
   "source": [
    "complete.query(\"epsilon == 0.001 & trials == 4 & mistrust == 1\").groupby(\"size\").count()"
   ]
  },
  {
   "cell_type": "code",
   "execution_count": null,
   "metadata": {},
   "outputs": [],
   "source": [
    "B.groupby(\"mistrust\").uid.describe()"
   ]
  },
  {
   "cell_type": "markdown",
   "metadata": {},
   "source": [
    "# 2. Zollman Effect"
   ]
  },
  {
   "cell_type": "code",
   "execution_count": null,
   "metadata": {},
   "outputs": [],
   "source": [
    "# Load all networks\n",
    "\n",
    "NETWORKKINDS = [\"complete\", \"cycle\", \"random\", \"star\", \"wattsstrogatz\", \"barabasialbert\"]\n",
    "\n",
    "results = {}\n",
    "for kind in NETWORKKINDS:\n",
    "    results[kind] = pd.read_csv(f\"../polygraphs-cache/zollman-effect/summary/{kind}.csv\")"
   ]
  },
  {
   "cell_type": "markdown",
   "metadata": {},
   "source": [
    "## A. Random networks\n",
    "\n",
    "### I. Effect of density on convergence\n",
    "\n",
    "##### Notes\n",
    "\n",
    "Show percentage of simulations converging to the truth (action $B$) on the $y$ axis, and network density on the $x$ axis.\n",
    "\n",
    "Do this for each `trials` value ($\\epsilon$ at `0.001`), and then plot these all together.\n",
    "\n",
    "Extra analysis include:\n",
    "\n",
    "* Repeat the above, for each of the other $\\epsilon$ values. \n",
    "\n",
    "* Use probability of connection on the $x$ axis, rather than density."
   ]
  },
  {
   "cell_type": "code",
   "execution_count": null,
   "metadata": {},
   "outputs": [],
   "source": [
    "data = results[\"random\"].copy()\n",
    "\n",
    "print(f\"Epsilon\\t{sorted(data.epsilon.unique())}\")\n",
    "print(f\"Trials\\t{sorted(data.trials.unique())}\")\n",
    "print(f\"Size\\t{sorted(data['size'].unique())}\")\n",
    "\n",
    "data"
   ]
  },
  {
   "cell_type": "code",
   "execution_count": null,
   "metadata": {},
   "outputs": [],
   "source": [
    "data = myfilter(data, epsilon=None, trials=None, size=None)\n",
    "\n",
    "data.plot.scatter(x=\"density\",\n",
    "                  y=\"clustering\",\n",
    "                  xlim=[0, 1],\n",
    "                  ylim=[0, 1])"
   ]
  },
  {
   "cell_type": "code",
   "execution_count": null,
   "metadata": {},
   "outputs": [],
   "source": [
    "bcdf(data)"
   ]
  },
  {
   "cell_type": "code",
   "execution_count": null,
   "metadata": {},
   "outputs": [],
   "source": [
    "random[\"clustering1\"] = pd.cut(random.clustering, 5)\n",
    "random.groupby(\"clustering1\").undefined.size()"
   ]
  },
  {
   "cell_type": "code",
   "execution_count": null,
   "metadata": {},
   "outputs": [],
   "source": [
    "random.loc[random.epsilon == 0.001, ['action', 'density']]"
   ]
  },
  {
   "cell_type": "code",
   "execution_count": null,
   "metadata": {},
   "outputs": [],
   "source": [
    "random.hist('density', by=random.epsilon, bins=5)"
   ]
  },
  {
   "cell_type": "code",
   "execution_count": null,
   "metadata": {},
   "outputs": [],
   "source": [
    "data = random.copy()\n",
    "data.density = pd.cut(data.density, 5)\n",
    "B = data.query(\"epsilon == 0.001 & size > 4 & action == 'B'\").groupby(\"density\").action.count()\n",
    "N = data.query(\"epsilon == 0.001 & size > 4\").groupby(\"density\").action.count()\n",
    "result = pd.merge(B, N, on=\"density\").reset_index()\n",
    "result[\"average\"] = result.action_x / result.action_y\n",
    "result.plot(x=\"density\", y=\"average\")"
   ]
  },
  {
   "cell_type": "markdown",
   "metadata": {},
   "source": [
    "### II. Effect of density on time to convergence\n",
    "\n",
    "##### Notes\n",
    "\n",
    "Show time to convergence to $B$ on the $y$ axis, and density on the $x$ axis. \n",
    "\n",
    "Filter out any simulations that converged to A. \n",
    "\n",
    "It will be crucial to capture the mean value of $y$ (for any given $x$ value) - but it would be nice to also capture the distribution in a box plot."
   ]
  },
  {
   "cell_type": "code",
   "execution_count": null,
   "metadata": {},
   "outputs": [],
   "source": [
    "data = random.copy()\n",
    "data.density = pd.cut(data.density, 5)\n",
    "B = data.query(\"epsilon == 0.001 & action == 'B'\").groupby(\"density\").steps.describe().reset_index()\n",
    "print(B)\n",
    "B.plot.line(x=\"density\", y=\"mean\")"
   ]
  },
  {
   "cell_type": "markdown",
   "metadata": {},
   "source": [
    "## B. Watts-Strogatz networks\n",
    "\n",
    "### I. Effect of density on convergence\n",
    "\n",
    "##### Notes\n",
    "\n",
    "As with random networks.\n",
    "\n",
    "A plot showing random and Watts-Strogatz networks could be good, as it would enable direct comparison relatively easily.\n",
    "\n",
    "Plot of Wattstrogatz simulations with a given density (and so filtered by `knn`) with probability of rewiring on the $x$ axis."
   ]
  },
  {
   "cell_type": "code",
   "execution_count": null,
   "metadata": {},
   "outputs": [],
   "source": [
    "data = results[\"wattsstrogatz\"].copy()\n",
    "\n",
    "print(f\"Epsilon\\t{sorted(data.epsilon.unique())}\")\n",
    "print(f\"Trials\\t{sorted(data.trials.unique())}\")\n",
    "print(f\"Size\\t{sorted(data['size'].unique())}\")\n",
    "\n",
    "data.prob.unique()"
   ]
  },
  {
   "cell_type": "code",
   "execution_count": null,
   "metadata": {},
   "outputs": [],
   "source": [
    "data = myfilter(data, epsilon=None, trials=None, size=None) #extras=\"density > 0.2 & density < 0.4\")\n",
    "\n",
    "data.plot.scatter(x=\"density\",\n",
    "                  y=\"clustering\",\n",
    "                  xlim=[0, 1],\n",
    "                  ylim=[0, 1])"
   ]
  },
  {
   "cell_type": "code",
   "execution_count": null,
   "metadata": {},
   "outputs": [],
   "source": [
    "bcdf(data)"
   ]
  },
  {
   "cell_type": "code",
   "execution_count": null,
   "metadata": {},
   "outputs": [],
   "source": [
    "wattsstrogatz[\"clustering1\"] = pd.cut(wattsstrogatz.clustering, 5)\n",
    "wattsstrogatz.groupby(\"clustering1\").undefined.size()"
   ]
  },
  {
   "cell_type": "code",
   "execution_count": null,
   "metadata": {},
   "outputs": [],
   "source": [
    "data = wattsstrogatz.copy()\n",
    "data.density = pd.cut(data.density, 4)\n",
    "B = data.query(\"epsilon == 0.001 & size > 0 & action == 'B'\").groupby(\"density\").action.count()\n",
    "N = data.query(\"epsilon == 0.001 & size > 0\").groupby(\"density\").action.count()\n",
    "result = pd.merge(B, N, on=\"density\").reset_index()\n",
    "result[\"average\"] = result.action_x / result.action_y\n",
    "result.plot(x=\"density\", y=\"average\")"
   ]
  },
  {
   "cell_type": "markdown",
   "metadata": {},
   "source": [
    "### II. Effect of density on time to convergence\n",
    "\n",
    "##### Notes\n",
    "\n",
    "As with random networks."
   ]
  },
  {
   "cell_type": "code",
   "execution_count": null,
   "metadata": {},
   "outputs": [],
   "source": [
    "data = wattsstrogatz.copy()\n",
    "data.density = pd.cut(data.density, 5)\n",
    "B = data.query(\"epsilon == 0.001 & action == 'B'\").groupby(\"density\").steps.describe().reset_index()\n",
    "print(B)\n",
    "B.plot.line(x=\"density\", y=\"mean\")"
   ]
  },
  {
   "cell_type": "code",
   "execution_count": null,
   "metadata": {},
   "outputs": [],
   "source": [
    "data = wattsstrogatz.copy()\n",
    "data.clustering = pd.cut(data.clustering, 4)\n",
    "B = data.query(\"epsilon == 0.001 & size > 0 & action == 'B'\").groupby(\"clustering\").action.count()\n",
    "N = data.query(\"epsilon == 0.001 & size > 0\").groupby(\"clustering\").action.count()\n",
    "result = pd.merge(B, N, on=\"clustering\").reset_index()\n",
    "result[\"average\"] = result.action_x / result.action_y\n",
    "result.plot(x=\"clustering\", y=\"average\")"
   ]
  },
  {
   "cell_type": "code",
   "execution_count": null,
   "metadata": {},
   "outputs": [],
   "source": [
    "data = random.copy()\n",
    "data.clustering = pd.cut(data.clustering, 4)\n",
    "B = data.query(\"epsilon == 0.001 & size > 0 & action == 'B'\").groupby(\"clustering\").action.count()\n",
    "N = data.query(\"epsilon == 0.001 & size > 0\").groupby(\"clustering\").action.count()\n",
    "result = pd.merge(B, N, on=\"clustering\").reset_index()\n",
    "result[\"average\"] = result.action_x / result.action_y\n",
    "result.plot(x=\"clustering\", y=\"average\")"
   ]
  },
  {
   "cell_type": "code",
   "execution_count": null,
   "metadata": {},
   "outputs": [],
   "source": []
  },
  {
   "cell_type": "markdown",
   "metadata": {},
   "source": [
    "## B. Barabasi-Albert networks"
   ]
  },
  {
   "cell_type": "code",
   "execution_count": null,
   "metadata": {},
   "outputs": [],
   "source": [
    "data = results[\"barabasialbert\"].copy()\n",
    "\n",
    "print(f\"Epsilon\\t{sorted(data.epsilon.unique())}\")\n",
    "print(f\"Trials\\t{sorted(data.trials.unique())}\")\n",
    "print(f\"Size\\t{sorted(data['size'].unique())}\")\n",
    "\n",
    "data"
   ]
  },
  {
   "cell_type": "code",
   "execution_count": null,
   "metadata": {},
   "outputs": [],
   "source": [
    "data = myfilter(data, epsilon=None, trials=None, size=None)\n",
    "\n",
    "data.plot.scatter(x=\"density\",\n",
    "                  y=\"clustering\",\n",
    "                  xlim=[0, 1],\n",
    "                  ylim=[0, 1])"
   ]
  },
  {
   "cell_type": "code",
   "execution_count": null,
   "metadata": {},
   "outputs": [],
   "source": [
    "bcdf(data)"
   ]
  },
  {
   "cell_type": "code",
   "execution_count": null,
   "metadata": {},
   "outputs": [],
   "source": []
  }
 ],
 "metadata": {
  "kernelspec": {
   "display_name": "Python 3.8.9 ('.venv': venv)",
   "language": "python",
   "name": "python3"
  },
  "language_info": {
   "codemirror_mode": {
    "name": "ipython",
    "version": 3
   },
   "file_extension": ".py",
   "mimetype": "text/x-python",
   "name": "python",
   "nbconvert_exporter": "python",
   "pygments_lexer": "ipython3",
   "version": "3.8.9"
  },
  "orig_nbformat": 4,
  "vscode": {
   "interpreter": {
    "hash": "99d2daaa40f0c21b26b27a5491cef7acb4d77d22705671ecaa8729c6260e1a86"
   }
  }
 },
 "nbformat": 4,
 "nbformat_minor": 2
}
